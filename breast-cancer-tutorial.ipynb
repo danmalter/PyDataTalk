{
 "cells": [
  {
   "cell_type": "markdown",
   "metadata": {},
   "source": [
    "# Keras Tutorial Using Wisconsin Breast Cancer Data\n",
    "https://archive.ics.uci.edu/ml/datasets/Breast+Cancer+Wisconsin+(Diagnostic)\n",
    "\n",
    "##### Python 2.7"
   ]
  },
  {
   "cell_type": "code",
   "execution_count": 1,
   "metadata": {},
   "outputs": [
    {
     "name": "stderr",
     "output_type": "stream",
     "text": [
      "Using TensorFlow backend.\n"
     ]
    }
   ],
   "source": [
    "from keras.models import Sequential  # for input layer\n",
    "from keras.layers import Dense  # for hidden layers\n",
    "import numpy as np\n",
    "import pandas as pd\n",
    "import matplotlib.pyplot as plt\n",
    "import PIL.Image\n",
    "from sklearn.metrics import confusion_matrix, classification_report\n",
    "from sklearn.model_selection import train_test_split\n",
    "from IPython.display import Image, display\n",
    "\n",
    "%matplotlib inline  "
   ]
  },
  {
   "cell_type": "code",
   "execution_count": 2,
   "metadata": {
    "collapsed": true
   },
   "outputs": [],
   "source": [
    "#path = \"data/ml-20m/\"\n",
    "path = \"/Users/1355800/Desktop/DSB/\"\n",
    "model_path = path + 'models/'"
   ]
  },
  {
   "cell_type": "code",
   "execution_count": 3,
   "metadata": {
    "collapsed": true
   },
   "outputs": [],
   "source": [
    "# fix random seed for reproducibility\n",
    "np.random.seed(9)"
   ]
  },
  {
   "cell_type": "code",
   "execution_count": 4,
   "metadata": {},
   "outputs": [
    {
     "data": {
      "text/html": [
       "<div>\n",
       "<style>\n",
       "    .dataframe thead tr:only-child th {\n",
       "        text-align: right;\n",
       "    }\n",
       "\n",
       "    .dataframe thead th {\n",
       "        text-align: left;\n",
       "    }\n",
       "\n",
       "    .dataframe tbody tr th {\n",
       "        vertical-align: top;\n",
       "    }\n",
       "</style>\n",
       "<table border=\"1\" class=\"dataframe\">\n",
       "  <thead>\n",
       "    <tr style=\"text-align: right;\">\n",
       "      <th></th>\n",
       "      <th>0</th>\n",
       "      <th>1</th>\n",
       "      <th>2</th>\n",
       "      <th>3</th>\n",
       "      <th>4</th>\n",
       "      <th>5</th>\n",
       "      <th>6</th>\n",
       "      <th>7</th>\n",
       "      <th>8</th>\n",
       "      <th>9</th>\n",
       "      <th>10</th>\n",
       "    </tr>\n",
       "  </thead>\n",
       "  <tbody>\n",
       "    <tr>\n",
       "      <th>0</th>\n",
       "      <td>1000025</td>\n",
       "      <td>5</td>\n",
       "      <td>1</td>\n",
       "      <td>1</td>\n",
       "      <td>1</td>\n",
       "      <td>2</td>\n",
       "      <td>1.0</td>\n",
       "      <td>3</td>\n",
       "      <td>1</td>\n",
       "      <td>1</td>\n",
       "      <td>2</td>\n",
       "    </tr>\n",
       "    <tr>\n",
       "      <th>1</th>\n",
       "      <td>1002945</td>\n",
       "      <td>5</td>\n",
       "      <td>4</td>\n",
       "      <td>4</td>\n",
       "      <td>5</td>\n",
       "      <td>7</td>\n",
       "      <td>10.0</td>\n",
       "      <td>3</td>\n",
       "      <td>2</td>\n",
       "      <td>1</td>\n",
       "      <td>2</td>\n",
       "    </tr>\n",
       "    <tr>\n",
       "      <th>2</th>\n",
       "      <td>1015425</td>\n",
       "      <td>3</td>\n",
       "      <td>1</td>\n",
       "      <td>1</td>\n",
       "      <td>1</td>\n",
       "      <td>2</td>\n",
       "      <td>2.0</td>\n",
       "      <td>3</td>\n",
       "      <td>1</td>\n",
       "      <td>1</td>\n",
       "      <td>2</td>\n",
       "    </tr>\n",
       "    <tr>\n",
       "      <th>3</th>\n",
       "      <td>1016277</td>\n",
       "      <td>6</td>\n",
       "      <td>8</td>\n",
       "      <td>8</td>\n",
       "      <td>1</td>\n",
       "      <td>3</td>\n",
       "      <td>4.0</td>\n",
       "      <td>3</td>\n",
       "      <td>7</td>\n",
       "      <td>1</td>\n",
       "      <td>2</td>\n",
       "    </tr>\n",
       "    <tr>\n",
       "      <th>4</th>\n",
       "      <td>1017023</td>\n",
       "      <td>4</td>\n",
       "      <td>1</td>\n",
       "      <td>1</td>\n",
       "      <td>3</td>\n",
       "      <td>2</td>\n",
       "      <td>1.0</td>\n",
       "      <td>3</td>\n",
       "      <td>1</td>\n",
       "      <td>1</td>\n",
       "      <td>2</td>\n",
       "    </tr>\n",
       "    <tr>\n",
       "      <th>5</th>\n",
       "      <td>1017122</td>\n",
       "      <td>8</td>\n",
       "      <td>10</td>\n",
       "      <td>10</td>\n",
       "      <td>8</td>\n",
       "      <td>7</td>\n",
       "      <td>10.0</td>\n",
       "      <td>9</td>\n",
       "      <td>7</td>\n",
       "      <td>1</td>\n",
       "      <td>4</td>\n",
       "    </tr>\n",
       "    <tr>\n",
       "      <th>6</th>\n",
       "      <td>1018099</td>\n",
       "      <td>1</td>\n",
       "      <td>1</td>\n",
       "      <td>1</td>\n",
       "      <td>1</td>\n",
       "      <td>2</td>\n",
       "      <td>10.0</td>\n",
       "      <td>3</td>\n",
       "      <td>1</td>\n",
       "      <td>1</td>\n",
       "      <td>2</td>\n",
       "    </tr>\n",
       "    <tr>\n",
       "      <th>7</th>\n",
       "      <td>1018561</td>\n",
       "      <td>2</td>\n",
       "      <td>1</td>\n",
       "      <td>2</td>\n",
       "      <td>1</td>\n",
       "      <td>2</td>\n",
       "      <td>1.0</td>\n",
       "      <td>3</td>\n",
       "      <td>1</td>\n",
       "      <td>1</td>\n",
       "      <td>2</td>\n",
       "    </tr>\n",
       "    <tr>\n",
       "      <th>8</th>\n",
       "      <td>1033078</td>\n",
       "      <td>2</td>\n",
       "      <td>1</td>\n",
       "      <td>1</td>\n",
       "      <td>1</td>\n",
       "      <td>2</td>\n",
       "      <td>1.0</td>\n",
       "      <td>1</td>\n",
       "      <td>1</td>\n",
       "      <td>5</td>\n",
       "      <td>2</td>\n",
       "    </tr>\n",
       "    <tr>\n",
       "      <th>9</th>\n",
       "      <td>1033078</td>\n",
       "      <td>4</td>\n",
       "      <td>2</td>\n",
       "      <td>1</td>\n",
       "      <td>1</td>\n",
       "      <td>2</td>\n",
       "      <td>1.0</td>\n",
       "      <td>2</td>\n",
       "      <td>1</td>\n",
       "      <td>1</td>\n",
       "      <td>2</td>\n",
       "    </tr>\n",
       "  </tbody>\n",
       "</table>\n",
       "</div>"
      ],
      "text/plain": [
       "        0   1   2   3   4   5     6   7   8   9   10\n",
       "0  1000025   5   1   1   1   2   1.0   3   1   1   2\n",
       "1  1002945   5   4   4   5   7  10.0   3   2   1   2\n",
       "2  1015425   3   1   1   1   2   2.0   3   1   1   2\n",
       "3  1016277   6   8   8   1   3   4.0   3   7   1   2\n",
       "4  1017023   4   1   1   3   2   1.0   3   1   1   2\n",
       "5  1017122   8  10  10   8   7  10.0   9   7   1   4\n",
       "6  1018099   1   1   1   1   2  10.0   3   1   1   2\n",
       "7  1018561   2   1   2   1   2   1.0   3   1   1   2\n",
       "8  1033078   2   1   1   1   2   1.0   1   1   5   2\n",
       "9  1033078   4   2   1   1   2   1.0   2   1   1   2"
      ]
     },
     "execution_count": 4,
     "metadata": {},
     "output_type": "execute_result"
    }
   ],
   "source": [
    "# 16 NA values in column 6\n",
    "data = pd.read_csv(\"wisconsin-breast-cancer.csv\", delimiter=\",\", header=None, na_values=\"?\")\n",
    "data.head(10)"
   ]
  },
  {
   "cell_type": "markdown",
   "metadata": {},
   "source": [
    "#### Attributes\n",
    "    \n",
    "    1. Sample code number            id number\n",
    "    2. Clump Thickness               1 - 10\n",
    "    3. Uniformity of Cell Size       1 - 10\n",
    "    4. Uniformity of Cell Shape      1 - 10\n",
    "    5. Marginal Adhesion             1 - 10\n",
    "    6. Single Epithelial Cell Size   1 - 10\n",
    "    7. Bare Nuclei                   1 - 10\n",
    "    8. Bland Chromatin               1 - 10\n",
    "    9. Normal Nucleoli               1 - 10\n",
    "    10. Mitoses                      1 - 10\n",
    "    11. Class                        (2 for benign, 4 for malignant)"
   ]
  },
  {
   "cell_type": "code",
   "execution_count": 5,
   "metadata": {
    "collapsed": true
   },
   "outputs": [],
   "source": [
    "# Fill NA values with the mean of that column\n",
    "data[6].fillna(data[6].mean(), inplace=True)"
   ]
  },
  {
   "cell_type": "code",
   "execution_count": 6,
   "metadata": {},
   "outputs": [
    {
     "data": {
      "text/html": [
       "<div>\n",
       "<style>\n",
       "    .dataframe thead tr:only-child th {\n",
       "        text-align: right;\n",
       "    }\n",
       "\n",
       "    .dataframe thead th {\n",
       "        text-align: left;\n",
       "    }\n",
       "\n",
       "    .dataframe tbody tr th {\n",
       "        vertical-align: top;\n",
       "    }\n",
       "</style>\n",
       "<table border=\"1\" class=\"dataframe\">\n",
       "  <thead>\n",
       "    <tr style=\"text-align: right;\">\n",
       "      <th></th>\n",
       "      <th>0</th>\n",
       "      <th>1</th>\n",
       "      <th>2</th>\n",
       "      <th>3</th>\n",
       "      <th>4</th>\n",
       "      <th>5</th>\n",
       "      <th>6</th>\n",
       "      <th>7</th>\n",
       "      <th>8</th>\n",
       "      <th>9</th>\n",
       "      <th>10</th>\n",
       "    </tr>\n",
       "  </thead>\n",
       "  <tbody>\n",
       "    <tr>\n",
       "      <th>0</th>\n",
       "      <td>1000025</td>\n",
       "      <td>5</td>\n",
       "      <td>1</td>\n",
       "      <td>1</td>\n",
       "      <td>1</td>\n",
       "      <td>2</td>\n",
       "      <td>1.0</td>\n",
       "      <td>3</td>\n",
       "      <td>1</td>\n",
       "      <td>1</td>\n",
       "      <td>0</td>\n",
       "    </tr>\n",
       "    <tr>\n",
       "      <th>1</th>\n",
       "      <td>1002945</td>\n",
       "      <td>5</td>\n",
       "      <td>4</td>\n",
       "      <td>4</td>\n",
       "      <td>5</td>\n",
       "      <td>7</td>\n",
       "      <td>10.0</td>\n",
       "      <td>3</td>\n",
       "      <td>2</td>\n",
       "      <td>1</td>\n",
       "      <td>0</td>\n",
       "    </tr>\n",
       "    <tr>\n",
       "      <th>2</th>\n",
       "      <td>1015425</td>\n",
       "      <td>3</td>\n",
       "      <td>1</td>\n",
       "      <td>1</td>\n",
       "      <td>1</td>\n",
       "      <td>2</td>\n",
       "      <td>2.0</td>\n",
       "      <td>3</td>\n",
       "      <td>1</td>\n",
       "      <td>1</td>\n",
       "      <td>0</td>\n",
       "    </tr>\n",
       "    <tr>\n",
       "      <th>3</th>\n",
       "      <td>1016277</td>\n",
       "      <td>6</td>\n",
       "      <td>8</td>\n",
       "      <td>8</td>\n",
       "      <td>1</td>\n",
       "      <td>3</td>\n",
       "      <td>4.0</td>\n",
       "      <td>3</td>\n",
       "      <td>7</td>\n",
       "      <td>1</td>\n",
       "      <td>0</td>\n",
       "    </tr>\n",
       "    <tr>\n",
       "      <th>4</th>\n",
       "      <td>1017023</td>\n",
       "      <td>4</td>\n",
       "      <td>1</td>\n",
       "      <td>1</td>\n",
       "      <td>3</td>\n",
       "      <td>2</td>\n",
       "      <td>1.0</td>\n",
       "      <td>3</td>\n",
       "      <td>1</td>\n",
       "      <td>1</td>\n",
       "      <td>0</td>\n",
       "    </tr>\n",
       "    <tr>\n",
       "      <th>5</th>\n",
       "      <td>1017122</td>\n",
       "      <td>8</td>\n",
       "      <td>10</td>\n",
       "      <td>10</td>\n",
       "      <td>8</td>\n",
       "      <td>7</td>\n",
       "      <td>10.0</td>\n",
       "      <td>9</td>\n",
       "      <td>7</td>\n",
       "      <td>1</td>\n",
       "      <td>1</td>\n",
       "    </tr>\n",
       "    <tr>\n",
       "      <th>6</th>\n",
       "      <td>1018099</td>\n",
       "      <td>1</td>\n",
       "      <td>1</td>\n",
       "      <td>1</td>\n",
       "      <td>1</td>\n",
       "      <td>2</td>\n",
       "      <td>10.0</td>\n",
       "      <td>3</td>\n",
       "      <td>1</td>\n",
       "      <td>1</td>\n",
       "      <td>0</td>\n",
       "    </tr>\n",
       "    <tr>\n",
       "      <th>7</th>\n",
       "      <td>1018561</td>\n",
       "      <td>2</td>\n",
       "      <td>1</td>\n",
       "      <td>2</td>\n",
       "      <td>1</td>\n",
       "      <td>2</td>\n",
       "      <td>1.0</td>\n",
       "      <td>3</td>\n",
       "      <td>1</td>\n",
       "      <td>1</td>\n",
       "      <td>0</td>\n",
       "    </tr>\n",
       "    <tr>\n",
       "      <th>8</th>\n",
       "      <td>1033078</td>\n",
       "      <td>2</td>\n",
       "      <td>1</td>\n",
       "      <td>1</td>\n",
       "      <td>1</td>\n",
       "      <td>2</td>\n",
       "      <td>1.0</td>\n",
       "      <td>1</td>\n",
       "      <td>1</td>\n",
       "      <td>5</td>\n",
       "      <td>0</td>\n",
       "    </tr>\n",
       "    <tr>\n",
       "      <th>9</th>\n",
       "      <td>1033078</td>\n",
       "      <td>4</td>\n",
       "      <td>2</td>\n",
       "      <td>1</td>\n",
       "      <td>1</td>\n",
       "      <td>2</td>\n",
       "      <td>1.0</td>\n",
       "      <td>2</td>\n",
       "      <td>1</td>\n",
       "      <td>1</td>\n",
       "      <td>0</td>\n",
       "    </tr>\n",
       "  </tbody>\n",
       "</table>\n",
       "</div>"
      ],
      "text/plain": [
       "        0   1   2   3   4   5     6   7   8   9   10\n",
       "0  1000025   5   1   1   1   2   1.0   3   1   1   0\n",
       "1  1002945   5   4   4   5   7  10.0   3   2   1   0\n",
       "2  1015425   3   1   1   1   2   2.0   3   1   1   0\n",
       "3  1016277   6   8   8   1   3   4.0   3   7   1   0\n",
       "4  1017023   4   1   1   3   2   1.0   3   1   1   0\n",
       "5  1017122   8  10  10   8   7  10.0   9   7   1   1\n",
       "6  1018099   1   1   1   1   2  10.0   3   1   1   0\n",
       "7  1018561   2   1   2   1   2   1.0   3   1   1   0\n",
       "8  1033078   2   1   1   1   2   1.0   1   1   5   0\n",
       "9  1033078   4   2   1   1   2   1.0   2   1   1   0"
      ]
     },
     "execution_count": 6,
     "metadata": {},
     "output_type": "execute_result"
    }
   ],
   "source": [
    "data[10].replace([2,4],[0,1],inplace=True)\n",
    "data.head(10)"
   ]
  },
  {
   "cell_type": "code",
   "execution_count": 7,
   "metadata": {
    "collapsed": true
   },
   "outputs": [],
   "source": [
    "X = data.iloc[:,0:10]\n",
    "y = data.iloc[:,10] # column 10 contains class (0 for benign, 1 for malignant)"
   ]
  },
  {
   "cell_type": "code",
   "execution_count": 8,
   "metadata": {},
   "outputs": [],
   "source": [
    "# split train/test (small dataset so only using 10% in test)\n",
    "X_train, X_test, y_train, y_test = train_test_split(X, y, test_size=0.10, random_state=42)"
   ]
  },
  {
   "cell_type": "code",
   "execution_count": 9,
   "metadata": {},
   "outputs": [],
   "source": [
    "# Save IDs separately\n",
    "X_train_id = pd.DataFrame({'userID':X_train.iloc[:,0]})\n",
    "X_test_id = pd.DataFrame({'userID':X_test.iloc[:,0]})"
   ]
  },
  {
   "cell_type": "code",
   "execution_count": 10,
   "metadata": {},
   "outputs": [],
   "source": [
    "# convert DF into numpy array\n",
    "X_train = X_train.iloc[:,1:10].values\n",
    "X_test = X_test.iloc[:,1:10].values"
   ]
  },
  {
   "cell_type": "markdown",
   "metadata": {},
   "source": [
    "### Example of a Three Layer Neural Network\n",
    "- Two hidden layers and one output layer (input layer is not included)\n",
    "- Neurons: 4 + 4 + 1 = 9 neurons\n",
    "- Weights: [3 x 4] + [4 x 4] + [4 x 1] = 12 + 16 + 1 = 32 weights \n",
    "- Biases: 4 + 4 + 1 = 9 biases"
   ]
  },
  {
   "cell_type": "markdown",
   "metadata": {},
   "source": [
    "[![](https://www.pyimagesearch.com/wp-content/uploads/2016/08/simple_neural_network_header.jpg)](https://www.pyimagesearch.com/wp-content/uploads/2016/08/simple_neural_network_header.jpg)"
   ]
  },
  {
   "cell_type": "markdown",
   "metadata": {},
   "source": [
    "### Neural Network For Breast Cancer Data (Below)\n",
    "\n",
    "- Input Layer: 9 neurons\n",
    "- Hidden Layer 1: 12 neurons\n",
    "- Hidden Layer 2: 8 neurons\n",
    "- Output Layer: 1 neuron\n",
    "<br>\n",
    "<br>\n",
    "- Activation 1: Rectifier\n",
    "- Activation 2: Rectifier\n",
    "- Activation 3: Sigmoid"
   ]
  },
  {
   "cell_type": "code",
   "execution_count": 11,
   "metadata": {
    "collapsed": true
   },
   "outputs": [],
   "source": [
    "# create model\n",
    "model = Sequential()\n",
    "model.add(Dense(12, input_dim=9, activation='relu'))  # 9 input dimensions, rectifier activation\n",
    "model.add(Dense(8, activation='relu'))\n",
    "model.add(Dense(1, activation='sigmoid')) # sigmoid - output is binary\n",
    "# Compile model\n",
    "model.compile(loss='binary_crossentropy', optimizer='adam', metrics=['accuracy'])"
   ]
  },
  {
   "cell_type": "markdown",
   "metadata": {},
   "source": [
    "### Sigmoid and ReLU Activation"
   ]
  },
  {
   "cell_type": "markdown",
   "metadata": {},
   "source": [
    "- ReLU was found to greatly accelerate the convergence of stochastic gradient descent compared to the sigmoid/tanh functions. It is argued that this is due to its linear, non-saturating form\n",
    "    - Best used with lots of data"
   ]
  },
  {
   "cell_type": "markdown",
   "metadata": {},
   "source": [
    "[![](https://cdn-images-1.medium.com/max/1600/1*XxxiA0jJvPrHEJHD4z893g.png)](https://cdn-images-1.medium.com/max/1600/1*XxxiA0jJvPrHEJHD4z893g.png)"
   ]
  },
  {
   "cell_type": "code",
   "execution_count": 12,
   "metadata": {},
   "outputs": [
    {
     "name": "stdout",
     "output_type": "stream",
     "text": [
      "_________________________________________________________________\n",
      "Layer (type)                 Output Shape              Param #   \n",
      "=================================================================\n",
      "dense_1 (Dense)              (None, 12)                120       \n",
      "_________________________________________________________________\n",
      "dense_2 (Dense)              (None, 8)                 104       \n",
      "_________________________________________________________________\n",
      "dense_3 (Dense)              (None, 1)                 9         \n",
      "=================================================================\n",
      "Total params: 233\n",
      "Trainable params: 233\n",
      "Non-trainable params: 0\n",
      "_________________________________________________________________\n"
     ]
    }
   ],
   "source": [
    "model.summary()"
   ]
  },
  {
   "cell_type": "markdown",
   "metadata": {},
   "source": [
    "#### Notes\n",
    "- (9 input layers + 1 connection to bias) * 12 output dimensions = 120 parameters\n",
    "- (12 dimensions + 1 connection to bias) * 8 output dimensions = 104 parameters\n",
    "- (8 output dimensions + 1 connection to bias) * 1 output dimension = 9 parameters"
   ]
  },
  {
   "cell_type": "code",
   "execution_count": 13,
   "metadata": {},
   "outputs": [
    {
     "data": {
      "text/plain": [
       "array([ 0.,  0.,  0.,  0.,  0.,  0.,  0.,  0.,  0.,  0.,  0.,  0.], dtype=float32)"
      ]
     },
     "execution_count": 13,
     "metadata": {},
     "output_type": "execute_result"
    }
   ],
   "source": [
    "# Print weights for first layer\n",
    "\n",
    "model.layers[0].get_weights()[1]"
   ]
  },
  {
   "cell_type": "code",
   "execution_count": 14,
   "metadata": {},
   "outputs": [
    {
     "data": {
      "image/png": "[encoded data removed]",
      "text/plain": [
       "<PIL.PngImagePlugin.PngImageFile image mode=RGBA size=401x395 at 0x11957D1D0>"
      ]
     },
     "execution_count": 14,
     "metadata": {},
     "output_type": "execute_result"
    }
   ],
   "source": [
    "from keras.utils import plot_model\n",
    "plot_model(model, show_shapes = True, show_layer_names = True)\n",
    "PIL.Image.open('model.png') "
   ]
  },
  {
   "cell_type": "code",
   "execution_count": 15,
   "metadata": {},
   "outputs": [
    {
     "name": "stdout",
     "output_type": "stream",
     "text": [
      "Train on 421 samples, validate on 208 samples\n",
      "Epoch 1/100\n",
      "421/421 [==============================] - 0s 851us/step - loss: 1.0786 - acc: 0.3515 - val_loss: 0.8411 - val_acc: 0.3413\n",
      "Epoch 2/100\n",
      "421/421 [==============================] - 0s 282us/step - loss: 0.6421 - acc: 0.5083 - val_loss: 0.5440 - val_acc: 0.6875\n",
      "Epoch 3/100\n",
      "421/421 [==============================] - 0s 292us/step - loss: 0.4671 - acc: 0.8124 - val_loss: 0.4825 - val_acc: 0.7981\n",
      "Epoch 4/100\n",
      "421/421 [==============================] - 0s 269us/step - loss: 0.4060 - acc: 0.8480 - val_loss: 0.4396 - val_acc: 0.8125\n",
      "Epoch 5/100\n",
      "421/421 [==============================] - 0s 295us/step - loss: 0.3673 - acc: 0.8741 - val_loss: 0.3905 - val_acc: 0.8365\n",
      "Epoch 6/100\n",
      "421/421 [==============================] - 0s 278us/step - loss: 0.3355 - acc: 0.8789 - val_loss: 0.3589 - val_acc: 0.8654\n",
      "Epoch 7/100\n",
      "421/421 [==============================] - 0s 287us/step - loss: 0.3064 - acc: 0.9026 - val_loss: 0.3284 - val_acc: 0.8702\n",
      "Epoch 8/100\n",
      "421/421 [==============================] - 0s 268us/step - loss: 0.2798 - acc: 0.9121 - val_loss: 0.3153 - val_acc: 0.8750\n",
      "Epoch 9/100\n",
      "421/421 [==============================] - 0s 270us/step - loss: 0.2616 - acc: 0.9287 - val_loss: 0.2930 - val_acc: 0.8942\n",
      "Epoch 10/100\n",
      "421/421 [==============================] - 0s 280us/step - loss: 0.2416 - acc: 0.9359 - val_loss: 0.2674 - val_acc: 0.9087\n",
      "Epoch 11/100\n",
      "421/421 [==============================] - 0s 329us/step - loss: 0.2320 - acc: 0.9311 - val_loss: 0.2559 - val_acc: 0.9135\n",
      "Epoch 12/100\n",
      "421/421 [==============================] - 0s 343us/step - loss: 0.2246 - acc: 0.9359 - val_loss: 0.2420 - val_acc: 0.9183\n",
      "Epoch 13/100\n",
      "421/421 [==============================] - 0s 324us/step - loss: 0.2060 - acc: 0.9430 - val_loss: 0.2339 - val_acc: 0.9183\n",
      "Epoch 14/100\n",
      "421/421 [==============================] - 0s 342us/step - loss: 0.1941 - acc: 0.9501 - val_loss: 0.2311 - val_acc: 0.9231\n",
      "Epoch 15/100\n",
      "421/421 [==============================] - 0s 375us/step - loss: 0.1892 - acc: 0.9525 - val_loss: 0.2404 - val_acc: 0.9135\n",
      "Epoch 16/100\n",
      "421/421 [==============================] - 0s 312us/step - loss: 0.1849 - acc: 0.9454 - val_loss: 0.2096 - val_acc: 0.9183\n",
      "Epoch 17/100\n",
      "421/421 [==============================] - 0s 315us/step - loss: 0.1705 - acc: 0.9572 - val_loss: 0.2132 - val_acc: 0.9231\n",
      "Epoch 18/100\n",
      "421/421 [==============================] - 0s 311us/step - loss: 0.1663 - acc: 0.9572 - val_loss: 0.2112 - val_acc: 0.9279\n",
      "Epoch 19/100\n",
      "421/421 [==============================] - 0s 321us/step - loss: 0.1602 - acc: 0.9572 - val_loss: 0.2132 - val_acc: 0.9279\n",
      "Epoch 20/100\n",
      "421/421 [==============================] - 0s 320us/step - loss: 0.1540 - acc: 0.9596 - val_loss: 0.2048 - val_acc: 0.9279\n",
      "Epoch 21/100\n",
      "421/421 [==============================] - 0s 317us/step - loss: 0.1452 - acc: 0.9596 - val_loss: 0.1917 - val_acc: 0.9231\n",
      "Epoch 22/100\n",
      "421/421 [==============================] - 0s 359us/step - loss: 0.1425 - acc: 0.9620 - val_loss: 0.2074 - val_acc: 0.9327\n",
      "Epoch 23/100\n",
      "421/421 [==============================] - 0s 323us/step - loss: 0.1363 - acc: 0.9644 - val_loss: 0.1839 - val_acc: 0.9231\n",
      "Epoch 24/100\n",
      "421/421 [==============================] - 0s 360us/step - loss: 0.1323 - acc: 0.9644 - val_loss: 0.1855 - val_acc: 0.9327\n",
      "Epoch 25/100\n",
      "421/421 [==============================] - 0s 342us/step - loss: 0.1261 - acc: 0.9644 - val_loss: 0.1747 - val_acc: 0.9375\n",
      "Epoch 26/100\n",
      "421/421 [==============================] - 0s 343us/step - loss: 0.1234 - acc: 0.9644 - val_loss: 0.1825 - val_acc: 0.9279\n",
      "Epoch 27/100\n",
      "421/421 [==============================] - 0s 249us/step - loss: 0.1206 - acc: 0.9691 - val_loss: 0.1774 - val_acc: 0.9327\n",
      "Epoch 28/100\n",
      "421/421 [==============================] - 0s 296us/step - loss: 0.1173 - acc: 0.9667 - val_loss: 0.1772 - val_acc: 0.9327\n",
      "Epoch 29/100\n",
      "421/421 [==============================] - 0s 232us/step - loss: 0.1159 - acc: 0.9667 - val_loss: 0.1799 - val_acc: 0.9327\n",
      "Epoch 30/100\n",
      "421/421 [==============================] - 0s 270us/step - loss: 0.1124 - acc: 0.9715 - val_loss: 0.1742 - val_acc: 0.9375\n",
      "Epoch 31/100\n",
      "421/421 [==============================] - 0s 306us/step - loss: 0.1157 - acc: 0.9667 - val_loss: 0.1750 - val_acc: 0.9327\n",
      "Epoch 32/100\n",
      "421/421 [==============================] - 0s 281us/step - loss: 0.1084 - acc: 0.9691 - val_loss: 0.1688 - val_acc: 0.9327\n",
      "Epoch 33/100\n",
      "421/421 [==============================] - 0s 273us/step - loss: 0.1069 - acc: 0.9691 - val_loss: 0.1703 - val_acc: 0.9375\n",
      "Epoch 34/100\n",
      "421/421 [==============================] - 0s 295us/step - loss: 0.1068 - acc: 0.9715 - val_loss: 0.1656 - val_acc: 0.9423\n",
      "Epoch 35/100\n",
      "421/421 [==============================] - 0s 309us/step - loss: 0.1020 - acc: 0.9715 - val_loss: 0.1678 - val_acc: 0.9423\n",
      "Epoch 36/100\n",
      "421/421 [==============================] - 0s 328us/step - loss: 0.1000 - acc: 0.9691 - val_loss: 0.1688 - val_acc: 0.9471\n",
      "Epoch 37/100\n",
      "421/421 [==============================] - 0s 289us/step - loss: 0.0978 - acc: 0.9715 - val_loss: 0.1721 - val_acc: 0.9375\n",
      "Epoch 38/100\n",
      "421/421 [==============================] - 0s 243us/step - loss: 0.0977 - acc: 0.9691 - val_loss: 0.1660 - val_acc: 0.9423\n",
      "Epoch 39/100\n",
      "421/421 [==============================] - 0s 281us/step - loss: 0.0961 - acc: 0.9691 - val_loss: 0.1677 - val_acc: 0.9471\n",
      "Epoch 40/100\n",
      "421/421 [==============================] - 0s 271us/step - loss: 0.0949 - acc: 0.9762 - val_loss: 0.1755 - val_acc: 0.9375\n",
      "Epoch 41/100\n",
      "421/421 [==============================] - 0s 274us/step - loss: 0.0933 - acc: 0.9739 - val_loss: 0.1652 - val_acc: 0.9423\n",
      "Epoch 42/100\n",
      "421/421 [==============================] - 0s 275us/step - loss: 0.0919 - acc: 0.9715 - val_loss: 0.1723 - val_acc: 0.9423\n",
      "Epoch 43/100\n",
      "421/421 [==============================] - 0s 260us/step - loss: 0.0894 - acc: 0.9715 - val_loss: 0.1704 - val_acc: 0.9423\n",
      "Epoch 44/100\n",
      "421/421 [==============================] - 0s 268us/step - loss: 0.0881 - acc: 0.9691 - val_loss: 0.1721 - val_acc: 0.9423\n",
      "Epoch 45/100\n",
      "421/421 [==============================] - 0s 265us/step - loss: 0.0870 - acc: 0.9715 - val_loss: 0.1668 - val_acc: 0.9471\n",
      "Epoch 46/100\n",
      "421/421 [==============================] - 0s 266us/step - loss: 0.0869 - acc: 0.9762 - val_loss: 0.1706 - val_acc: 0.9471\n",
      "Epoch 47/100\n",
      "421/421 [==============================] - 0s 267us/step - loss: 0.0848 - acc: 0.9762 - val_loss: 0.1689 - val_acc: 0.9471\n",
      "Epoch 48/100\n",
      "421/421 [==============================] - 0s 264us/step - loss: 0.0843 - acc: 0.9739 - val_loss: 0.1762 - val_acc: 0.9423\n",
      "Epoch 49/100\n",
      "421/421 [==============================] - 0s 266us/step - loss: 0.0813 - acc: 0.9739 - val_loss: 0.1664 - val_acc: 0.9423\n",
      "Epoch 50/100\n",
      "421/421 [==============================] - 0s 261us/step - loss: 0.0841 - acc: 0.9739 - val_loss: 0.1641 - val_acc: 0.9423\n",
      "Epoch 51/100\n",
      "421/421 [==============================] - 0s 278us/step - loss: 0.0780 - acc: 0.9786 - val_loss: 0.1805 - val_acc: 0.9423\n",
      "Epoch 52/100\n",
      "421/421 [==============================] - 0s 270us/step - loss: 0.0801 - acc: 0.9715 - val_loss: 0.1668 - val_acc: 0.9471\n",
      "Epoch 53/100\n",
      "421/421 [==============================] - 0s 263us/step - loss: 0.0776 - acc: 0.9786 - val_loss: 0.1753 - val_acc: 0.9423\n",
      "Epoch 54/100\n",
      "421/421 [==============================] - 0s 263us/step - loss: 0.0771 - acc: 0.9786 - val_loss: 0.1702 - val_acc: 0.9471\n",
      "Epoch 55/100\n",
      "421/421 [==============================] - 0s 270us/step - loss: 0.0760 - acc: 0.9786 - val_loss: 0.1731 - val_acc: 0.9471\n",
      "Epoch 56/100\n",
      "421/421 [==============================] - 0s 263us/step - loss: 0.0744 - acc: 0.9786 - val_loss: 0.1754 - val_acc: 0.9423\n",
      "Epoch 57/100\n",
      "421/421 [==============================] - 0s 277us/step - loss: 0.0744 - acc: 0.9786 - val_loss: 0.1751 - val_acc: 0.9423\n",
      "Epoch 58/100\n",
      "421/421 [==============================] - 0s 264us/step - loss: 0.0732 - acc: 0.9786 - val_loss: 0.1674 - val_acc: 0.9471\n",
      "Epoch 59/100\n",
      "421/421 [==============================] - 0s 270us/step - loss: 0.0709 - acc: 0.9786 - val_loss: 0.1827 - val_acc: 0.9423\n",
      "Epoch 60/100\n",
      "421/421 [==============================] - 0s 267us/step - loss: 0.0726 - acc: 0.9739 - val_loss: 0.1702 - val_acc: 0.9471\n"
     ]
    },
    {
     "name": "stdout",
     "output_type": "stream",
     "text": [
      "Epoch 61/100\n",
      "421/421 [==============================] - 0s 256us/step - loss: 0.0711 - acc: 0.9786 - val_loss: 0.1769 - val_acc: 0.9423\n",
      "Epoch 62/100\n",
      "421/421 [==============================] - 0s 257us/step - loss: 0.0699 - acc: 0.9786 - val_loss: 0.1663 - val_acc: 0.9423\n",
      "Epoch 63/100\n",
      "421/421 [==============================] - 0s 270us/step - loss: 0.0681 - acc: 0.9786 - val_loss: 0.1700 - val_acc: 0.9471\n",
      "Epoch 64/100\n",
      "421/421 [==============================] - 0s 262us/step - loss: 0.0677 - acc: 0.9786 - val_loss: 0.1735 - val_acc: 0.9423\n",
      "Epoch 65/100\n",
      "421/421 [==============================] - 0s 310us/step - loss: 0.0708 - acc: 0.9810 - val_loss: 0.1922 - val_acc: 0.9423\n",
      "Epoch 66/100\n",
      "421/421 [==============================] - 0s 329us/step - loss: 0.0679 - acc: 0.9762 - val_loss: 0.1717 - val_acc: 0.9423\n",
      "Epoch 67/100\n",
      "421/421 [==============================] - 0s 332us/step - loss: 0.0659 - acc: 0.9786 - val_loss: 0.1700 - val_acc: 0.9423\n",
      "Epoch 68/100\n",
      "421/421 [==============================] - 0s 301us/step - loss: 0.0649 - acc: 0.9786 - val_loss: 0.1701 - val_acc: 0.9423\n",
      "Epoch 69/100\n",
      "421/421 [==============================] - 0s 363us/step - loss: 0.0638 - acc: 0.9786 - val_loss: 0.1770 - val_acc: 0.9423\n",
      "Epoch 70/100\n",
      "421/421 [==============================] - 0s 295us/step - loss: 0.0650 - acc: 0.9810 - val_loss: 0.1769 - val_acc: 0.9423\n",
      "Epoch 71/100\n",
      "421/421 [==============================] - 0s 309us/step - loss: 0.0642 - acc: 0.9762 - val_loss: 0.1729 - val_acc: 0.9423\n",
      "Epoch 72/100\n",
      "421/421 [==============================] - 0s 314us/step - loss: 0.0617 - acc: 0.9834 - val_loss: 0.1697 - val_acc: 0.9471\n",
      "Epoch 73/100\n",
      "421/421 [==============================] - 0s 209us/step - loss: 0.0609 - acc: 0.9810 - val_loss: 0.1721 - val_acc: 0.9423\n",
      "Epoch 74/100\n",
      "421/421 [==============================] - 0s 257us/step - loss: 0.0611 - acc: 0.9786 - val_loss: 0.1949 - val_acc: 0.9423\n",
      "Epoch 75/100\n",
      "421/421 [==============================] - 0s 240us/step - loss: 0.0626 - acc: 0.9786 - val_loss: 0.1732 - val_acc: 0.9423\n",
      "Epoch 76/100\n",
      "421/421 [==============================] - 0s 234us/step - loss: 0.0589 - acc: 0.9810 - val_loss: 0.1765 - val_acc: 0.9423\n",
      "Epoch 77/100\n",
      "421/421 [==============================] - 0s 274us/step - loss: 0.0623 - acc: 0.9786 - val_loss: 0.1772 - val_acc: 0.9423\n",
      "Epoch 78/100\n",
      "421/421 [==============================] - 0s 248us/step - loss: 0.0603 - acc: 0.9786 - val_loss: 0.1735 - val_acc: 0.9471\n",
      "Epoch 79/100\n",
      "421/421 [==============================] - 0s 246us/step - loss: 0.0590 - acc: 0.9786 - val_loss: 0.2034 - val_acc: 0.9471\n",
      "Epoch 80/100\n",
      "421/421 [==============================] - 0s 251us/step - loss: 0.0605 - acc: 0.9810 - val_loss: 0.1809 - val_acc: 0.9423\n",
      "Epoch 81/100\n",
      "421/421 [==============================] - 0s 262us/step - loss: 0.0588 - acc: 0.9786 - val_loss: 0.1759 - val_acc: 0.9423\n",
      "Epoch 82/100\n",
      "421/421 [==============================] - 0s 265us/step - loss: 0.0567 - acc: 0.9834 - val_loss: 0.1720 - val_acc: 0.9423\n",
      "Epoch 83/100\n",
      "421/421 [==============================] - 0s 266us/step - loss: 0.0565 - acc: 0.9810 - val_loss: 0.1778 - val_acc: 0.9423\n",
      "Epoch 84/100\n",
      "421/421 [==============================] - 0s 264us/step - loss: 0.0549 - acc: 0.9834 - val_loss: 0.1703 - val_acc: 0.9471\n",
      "Epoch 85/100\n",
      "421/421 [==============================] - 0s 262us/step - loss: 0.0551 - acc: 0.9810 - val_loss: 0.1763 - val_acc: 0.9423\n",
      "Epoch 86/100\n",
      "421/421 [==============================] - 0s 260us/step - loss: 0.0589 - acc: 0.9810 - val_loss: 0.1817 - val_acc: 0.9423\n",
      "Epoch 87/100\n",
      "421/421 [==============================] - 0s 319us/step - loss: 0.0556 - acc: 0.9834 - val_loss: 0.1850 - val_acc: 0.9423\n",
      "Epoch 88/100\n",
      "421/421 [==============================] - 0s 235us/step - loss: 0.0550 - acc: 0.9810 - val_loss: 0.1874 - val_acc: 0.9471\n",
      "Epoch 89/100\n",
      "421/421 [==============================] - 0s 267us/step - loss: 0.0543 - acc: 0.9834 - val_loss: 0.1757 - val_acc: 0.9471\n",
      "Epoch 90/100\n",
      "421/421 [==============================] - 0s 268us/step - loss: 0.0545 - acc: 0.9881 - val_loss: 0.1755 - val_acc: 0.9423\n",
      "Epoch 91/100\n",
      "421/421 [==============================] - 0s 271us/step - loss: 0.0523 - acc: 0.9834 - val_loss: 0.1912 - val_acc: 0.9471\n",
      "Epoch 92/100\n",
      "421/421 [==============================] - 0s 260us/step - loss: 0.0512 - acc: 0.9810 - val_loss: 0.1765 - val_acc: 0.9423\n",
      "Epoch 93/100\n",
      "421/421 [==============================] - 0s 256us/step - loss: 0.0505 - acc: 0.9881 - val_loss: 0.1983 - val_acc: 0.9471\n",
      "Epoch 94/100\n",
      "421/421 [==============================] - 0s 328us/step - loss: 0.0541 - acc: 0.9834 - val_loss: 0.1857 - val_acc: 0.9471\n",
      "Epoch 95/100\n",
      "421/421 [==============================] - 0s 260us/step - loss: 0.0524 - acc: 0.9834 - val_loss: 0.1779 - val_acc: 0.9471\n",
      "Epoch 96/100\n",
      "421/421 [==============================] - 0s 290us/step - loss: 0.0504 - acc: 0.9857 - val_loss: 0.1850 - val_acc: 0.9423\n",
      "Epoch 97/100\n",
      "421/421 [==============================] - 0s 266us/step - loss: 0.0508 - acc: 0.9834 - val_loss: 0.1812 - val_acc: 0.9519\n",
      "Epoch 98/100\n",
      "421/421 [==============================] - 0s 274us/step - loss: 0.0509 - acc: 0.9834 - val_loss: 0.1821 - val_acc: 0.9471\n",
      "Epoch 99/100\n",
      "421/421 [==============================] - 0s 268us/step - loss: 0.0503 - acc: 0.9881 - val_loss: 0.2033 - val_acc: 0.9471\n",
      "Epoch 100/100\n",
      "421/421 [==============================] - 0s 255us/step - loss: 0.0505 - acc: 0.9881 - val_loss: 0.1825 - val_acc: 0.9471\n"
     ]
    }
   ],
   "source": [
    "# Fit the model\n",
    "history = model.fit(X_train, y_train, validation_split=0.33, epochs=100, batch_size=10, verbose=1)"
   ]
  },
  {
   "cell_type": "code",
   "execution_count": 16,
   "metadata": {},
   "outputs": [
    {
     "name": "stdout",
     "output_type": "stream",
     "text": [
      "629/629 [==============================] - 0s 36us/step\n",
      "\n",
      "acc: 97.30%\n"
     ]
    }
   ],
   "source": [
    "# evaluate the model\n",
    "scores = model.evaluate(X_train, y_train)\n",
    "print(\"\\n%s: %.2f%%\" % (model.metrics_names[1], scores[1]*100))"
   ]
  },
  {
   "cell_type": "code",
   "execution_count": 17,
   "metadata": {
    "collapsed": true
   },
   "outputs": [],
   "source": [
    "# save model weights\n",
    "model.save_weights(model_path + 'movielens_recommender_sys.h5')"
   ]
  },
  {
   "cell_type": "code",
   "execution_count": 18,
   "metadata": {
    "collapsed": true
   },
   "outputs": [],
   "source": [
    "model.load_weights(model_path + 'movielens_recommender_sys.h5')"
   ]
  },
  {
   "cell_type": "markdown",
   "metadata": {},
   "source": [
    "### Print Accuracy and Loss"
   ]
  },
  {
   "cell_type": "code",
   "execution_count": 19,
   "metadata": {},
   "outputs": [
    {
     "name": "stdout",
     "output_type": "stream",
     "text": [
      "['acc', 'loss', 'val_acc', 'val_loss']\n"
     ]
    },
    {
     "data": {
      "image/png": "[encoded data removed]",
      "text/plain": [
       "<matplotlib.figure.Figure at 0x119ac3150>"
      ]
     },
     "metadata": {},
     "output_type": "display_data"
    },
    {
     "data": {
      "image/png": "[encoded data removed]",
      "text/plain": [
       "<matplotlib.figure.Figure at 0x119beaf90>"
      ]
     },
     "metadata": {},
     "output_type": "display_data"
    }
   ],
   "source": [
    "# list all data in history\n",
    "print(history.history.keys())\n",
    "\n",
    "# summarize history for accuracy\n",
    "plt.plot(history.history['acc'])\n",
    "plt.plot(history.history['val_acc'])\n",
    "plt.title('model accuracy')\n",
    "plt.ylabel('accuracy')\n",
    "plt.xlabel('epoch')\n",
    "plt.legend(['train', 'test'], loc='upper left')\n",
    "plt.show()\n",
    "\n",
    "# summarize history for loss\n",
    "plt.plot(history.history['loss'])\n",
    "plt.plot(history.history['val_loss'])\n",
    "plt.title('model loss')\n",
    "plt.ylabel('loss')\n",
    "plt.xlabel('epoch')\n",
    "plt.legend(['train', 'test'], loc='upper left')\n",
    "plt.show()"
   ]
  },
  {
   "cell_type": "markdown",
   "metadata": {},
   "source": [
    "### Make Predictions on Test Set"
   ]
  },
  {
   "cell_type": "code",
   "execution_count": 20,
   "metadata": {},
   "outputs": [
    {
     "name": "stdout",
     "output_type": "stream",
     "text": [
      "[0.0, 0.0, 0.0, 1.0, 0.0]\n"
     ]
    }
   ],
   "source": [
    "# calculate predictions\n",
    "predictions = model.predict(X_test)\n",
    "# round predictions\n",
    "rounded = [round(x[0]) for x in predictions]\n",
    "print(rounded[0:5])"
   ]
  },
  {
   "cell_type": "code",
   "execution_count": 21,
   "metadata": {
    "collapsed": true
   },
   "outputs": [],
   "source": [
    "preds = pd.DataFrame(rounded, columns = ['pred'])"
   ]
  },
  {
   "cell_type": "code",
   "execution_count": 22,
   "metadata": {},
   "outputs": [],
   "source": [
    "# reset index for concatenation\n",
    "X_test_id.reset_index(drop=True, inplace=True)"
   ]
  },
  {
   "cell_type": "code",
   "execution_count": 23,
   "metadata": {},
   "outputs": [
    {
     "data": {
      "text/html": [
       "<div>\n",
       "<style>\n",
       "    .dataframe thead tr:only-child th {\n",
       "        text-align: right;\n",
       "    }\n",
       "\n",
       "    .dataframe thead th {\n",
       "        text-align: left;\n",
       "    }\n",
       "\n",
       "    .dataframe tbody tr th {\n",
       "        vertical-align: top;\n",
       "    }\n",
       "</style>\n",
       "<table border=\"1\" class=\"dataframe\">\n",
       "  <thead>\n",
       "    <tr style=\"text-align: right;\">\n",
       "      <th></th>\n",
       "      <th>userID</th>\n",
       "      <th>pred</th>\n",
       "    </tr>\n",
       "  </thead>\n",
       "  <tbody>\n",
       "    <tr>\n",
       "      <th>0</th>\n",
       "      <td>1193683</td>\n",
       "      <td>0.0</td>\n",
       "    </tr>\n",
       "    <tr>\n",
       "      <th>1</th>\n",
       "      <td>1217952</td>\n",
       "      <td>0.0</td>\n",
       "    </tr>\n",
       "    <tr>\n",
       "      <th>2</th>\n",
       "      <td>1176187</td>\n",
       "      <td>0.0</td>\n",
       "    </tr>\n",
       "    <tr>\n",
       "      <th>3</th>\n",
       "      <td>1192325</td>\n",
       "      <td>1.0</td>\n",
       "    </tr>\n",
       "    <tr>\n",
       "      <th>4</th>\n",
       "      <td>733639</td>\n",
       "      <td>0.0</td>\n",
       "    </tr>\n",
       "  </tbody>\n",
       "</table>\n",
       "</div>"
      ],
      "text/plain": [
       "    userID  pred\n",
       "0  1193683   0.0\n",
       "1  1217952   0.0\n",
       "2  1176187   0.0\n",
       "3  1192325   1.0\n",
       "4   733639   0.0"
      ]
     },
     "execution_count": 23,
     "metadata": {},
     "output_type": "execute_result"
    }
   ],
   "source": [
    "df_pred = pd.concat([X_test_id, preds], axis=1)\n",
    "df_pred.head()"
   ]
  },
  {
   "cell_type": "code",
   "execution_count": 24,
   "metadata": {},
   "outputs": [
    {
     "data": {
      "image/png": "[encoded data removed]",
      "text/plain": [
       "<matplotlib.figure.Figure at 0x119d37dd0>"
      ]
     },
     "metadata": {},
     "output_type": "display_data"
    },
    {
     "name": "stdout",
     "output_type": "stream",
     "text": [
      "             precision    recall  f1-score   support\n",
      "\n",
      "          0       0.98      0.93      0.96        46\n",
      "          1       0.88      0.96      0.92        24\n",
      "\n",
      "avg / total       0.95      0.94      0.94        70\n",
      "\n"
     ]
    }
   ],
   "source": [
    "cm = confusion_matrix(y_test, rounded)\n",
    "\n",
    "fig, ax = plt.subplots(figsize=(5, 5))\n",
    "ax.matshow(cm, cmap=plt.cm.Reds, alpha=0.3)\n",
    "for i in range(cm.shape[0]):\n",
    "     for j in range(cm.shape[1]):\n",
    "         ax.text(x=j, y=i,\n",
    "                s=cm[i, j], \n",
    "                va='center', ha='center')\n",
    "plt.xlabel('Predicted Values', )\n",
    "plt.ylabel('Actual Values')\n",
    "plt.show()\n",
    "print(classification_report(y_test, rounded))"
   ]
  }
 ],
 "metadata": {
  "kernelspec": {
   "display_name": "Python 2",
   "language": "python",
   "name": "python2"
  },
  "language_info": {
   "codemirror_mode": {
    "name": "ipython",
    "version": 2
   },
   "file_extension": ".py",
   "mimetype": "text/x-python",
   "name": "python",
   "nbconvert_exporter": "python",
   "pygments_lexer": "ipython2",
   "version": "2.7.13"
  }
 },
 "nbformat": 4,
 "nbformat_minor": 2
}
