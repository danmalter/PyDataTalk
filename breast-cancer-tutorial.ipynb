{
 "cells": [
  {
   "cell_type": "markdown",
   "metadata": {},
   "source": [
    "# Keras Tutorial Using Wisconsin Breast Cancer Data\n",
    "https://archive.ics.uci.edu/ml/datasets/Breast+Cancer+Wisconsin+(Diagnostic)\n",
    "\n",
    "##### Python 2.7"
   ]
  },
  {
   "cell_type": "code",
   "execution_count": 1,
   "metadata": {},
   "outputs": [
    {
     "name": "stderr",
     "output_type": "stream",
     "text": [
      "Using TensorFlow backend.\n"
     ]
    }
   ],
   "source": [
    "from keras.models import Sequential  # for input layer\n",
    "from keras.layers import Dense  # for hidden layers\n",
    "import numpy as np\n",
    "import pandas as pd\n",
    "import matplotlib.pyplot as plt\n",
    "import PIL.Image\n",
    "from sklearn.metrics import confusion_matrix, classification_report\n",
    "from sklearn.model_selection import train_test_split\n",
    "from IPython.display import Image, display\n",
    "\n",
    "%matplotlib inline  "
   ]
  },
  {
   "cell_type": "code",
   "execution_count": 2,
   "metadata": {
    "collapsed": true
   },
   "outputs": [],
   "source": [
    "#path = \"data/ml-20m/\"\n",
    "path = \"/Users/1355800/Desktop/DSB/\"\n",
    "model_path = path + 'models/'"
   ]
  },
  {
   "cell_type": "code",
   "execution_count": 3,
   "metadata": {
    "collapsed": true
   },
   "outputs": [],
   "source": [
    "# fix random seed for reproducibility\n",
    "np.random.seed(9)"
   ]
  },
  {
   "cell_type": "code",
   "execution_count": 4,
   "metadata": {},
   "outputs": [
    {
     "data": {
      "text/html": [
       "<div>\n",
       "<style>\n",
       "    .dataframe thead tr:only-child th {\n",
       "        text-align: right;\n",
       "    }\n",
       "\n",
       "    .dataframe thead th {\n",
       "        text-align: left;\n",
       "    }\n",
       "\n",
       "    .dataframe tbody tr th {\n",
       "        vertical-align: top;\n",
       "    }\n",
       "</style>\n",
       "<table border=\"1\" class=\"dataframe\">\n",
       "  <thead>\n",
       "    <tr style=\"text-align: right;\">\n",
       "      <th></th>\n",
       "      <th>0</th>\n",
       "      <th>1</th>\n",
       "      <th>2</th>\n",
       "      <th>3</th>\n",
       "      <th>4</th>\n",
       "      <th>5</th>\n",
       "      <th>6</th>\n",
       "      <th>7</th>\n",
       "      <th>8</th>\n",
       "      <th>9</th>\n",
       "      <th>10</th>\n",
       "    </tr>\n",
       "  </thead>\n",
       "  <tbody>\n",
       "    <tr>\n",
       "      <th>0</th>\n",
       "      <td>1000025</td>\n",
       "      <td>5</td>\n",
       "      <td>1</td>\n",
       "      <td>1</td>\n",
       "      <td>1</td>\n",
       "      <td>2</td>\n",
       "      <td>1.0</td>\n",
       "      <td>3</td>\n",
       "      <td>1</td>\n",
       "      <td>1</td>\n",
       "      <td>2</td>\n",
       "    </tr>\n",
       "    <tr>\n",
       "      <th>1</th>\n",
       "      <td>1002945</td>\n",
       "      <td>5</td>\n",
       "      <td>4</td>\n",
       "      <td>4</td>\n",
       "      <td>5</td>\n",
       "      <td>7</td>\n",
       "      <td>10.0</td>\n",
       "      <td>3</td>\n",
       "      <td>2</td>\n",
       "      <td>1</td>\n",
       "      <td>2</td>\n",
       "    </tr>\n",
       "    <tr>\n",
       "      <th>2</th>\n",
       "      <td>1015425</td>\n",
       "      <td>3</td>\n",
       "      <td>1</td>\n",
       "      <td>1</td>\n",
       "      <td>1</td>\n",
       "      <td>2</td>\n",
       "      <td>2.0</td>\n",
       "      <td>3</td>\n",
       "      <td>1</td>\n",
       "      <td>1</td>\n",
       "      <td>2</td>\n",
       "    </tr>\n",
       "    <tr>\n",
       "      <th>3</th>\n",
       "      <td>1016277</td>\n",
       "      <td>6</td>\n",
       "      <td>8</td>\n",
       "      <td>8</td>\n",
       "      <td>1</td>\n",
       "      <td>3</td>\n",
       "      <td>4.0</td>\n",
       "      <td>3</td>\n",
       "      <td>7</td>\n",
       "      <td>1</td>\n",
       "      <td>2</td>\n",
       "    </tr>\n",
       "    <tr>\n",
       "      <th>4</th>\n",
       "      <td>1017023</td>\n",
       "      <td>4</td>\n",
       "      <td>1</td>\n",
       "      <td>1</td>\n",
       "      <td>3</td>\n",
       "      <td>2</td>\n",
       "      <td>1.0</td>\n",
       "      <td>3</td>\n",
       "      <td>1</td>\n",
       "      <td>1</td>\n",
       "      <td>2</td>\n",
       "    </tr>\n",
       "    <tr>\n",
       "      <th>5</th>\n",
       "      <td>1017122</td>\n",
       "      <td>8</td>\n",
       "      <td>10</td>\n",
       "      <td>10</td>\n",
       "      <td>8</td>\n",
       "      <td>7</td>\n",
       "      <td>10.0</td>\n",
       "      <td>9</td>\n",
       "      <td>7</td>\n",
       "      <td>1</td>\n",
       "      <td>4</td>\n",
       "    </tr>\n",
       "    <tr>\n",
       "      <th>6</th>\n",
       "      <td>1018099</td>\n",
       "      <td>1</td>\n",
       "      <td>1</td>\n",
       "      <td>1</td>\n",
       "      <td>1</td>\n",
       "      <td>2</td>\n",
       "      <td>10.0</td>\n",
       "      <td>3</td>\n",
       "      <td>1</td>\n",
       "      <td>1</td>\n",
       "      <td>2</td>\n",
       "    </tr>\n",
       "    <tr>\n",
       "      <th>7</th>\n",
       "      <td>1018561</td>\n",
       "      <td>2</td>\n",
       "      <td>1</td>\n",
       "      <td>2</td>\n",
       "      <td>1</td>\n",
       "      <td>2</td>\n",
       "      <td>1.0</td>\n",
       "      <td>3</td>\n",
       "      <td>1</td>\n",
       "      <td>1</td>\n",
       "      <td>2</td>\n",
       "    </tr>\n",
       "    <tr>\n",
       "      <th>8</th>\n",
       "      <td>1033078</td>\n",
       "      <td>2</td>\n",
       "      <td>1</td>\n",
       "      <td>1</td>\n",
       "      <td>1</td>\n",
       "      <td>2</td>\n",
       "      <td>1.0</td>\n",
       "      <td>1</td>\n",
       "      <td>1</td>\n",
       "      <td>5</td>\n",
       "      <td>2</td>\n",
       "    </tr>\n",
       "    <tr>\n",
       "      <th>9</th>\n",
       "      <td>1033078</td>\n",
       "      <td>4</td>\n",
       "      <td>2</td>\n",
       "      <td>1</td>\n",
       "      <td>1</td>\n",
       "      <td>2</td>\n",
       "      <td>1.0</td>\n",
       "      <td>2</td>\n",
       "      <td>1</td>\n",
       "      <td>1</td>\n",
       "      <td>2</td>\n",
       "    </tr>\n",
       "  </tbody>\n",
       "</table>\n",
       "</div>"
      ],
      "text/plain": [
       "        0   1   2   3   4   5     6   7   8   9   10\n",
       "0  1000025   5   1   1   1   2   1.0   3   1   1   2\n",
       "1  1002945   5   4   4   5   7  10.0   3   2   1   2\n",
       "2  1015425   3   1   1   1   2   2.0   3   1   1   2\n",
       "3  1016277   6   8   8   1   3   4.0   3   7   1   2\n",
       "4  1017023   4   1   1   3   2   1.0   3   1   1   2\n",
       "5  1017122   8  10  10   8   7  10.0   9   7   1   4\n",
       "6  1018099   1   1   1   1   2  10.0   3   1   1   2\n",
       "7  1018561   2   1   2   1   2   1.0   3   1   1   2\n",
       "8  1033078   2   1   1   1   2   1.0   1   1   5   2\n",
       "9  1033078   4   2   1   1   2   1.0   2   1   1   2"
      ]
     },
     "execution_count": 4,
     "metadata": {},
     "output_type": "execute_result"
    }
   ],
   "source": [
    "# 16 NA values in column 6\n",
    "data = pd.read_csv(\"wisconsin-breast-cancer.csv\", delimiter=\",\", header=None, na_values=\"?\")\n",
    "data.head(10)"
   ]
  },
  {
   "cell_type": "markdown",
   "metadata": {},
   "source": [
    "#### Attributes\n",
    "    \n",
    "    1. Sample code number            id number\n",
    "    2. Clump Thickness               1 - 10\n",
    "    3. Uniformity of Cell Size       1 - 10\n",
    "    4. Uniformity of Cell Shape      1 - 10\n",
    "    5. Marginal Adhesion             1 - 10\n",
    "    6. Single Epithelial Cell Size   1 - 10\n",
    "    7. Bare Nuclei                   1 - 10\n",
    "    8. Bland Chromatin               1 - 10\n",
    "    9. Normal Nucleoli               1 - 10\n",
    "    10. Mitoses                      1 - 10\n",
    "    11. Class                        (2 for benign, 4 for malignant)"
   ]
  },
  {
   "cell_type": "code",
   "execution_count": 5,
   "metadata": {
    "collapsed": true
   },
   "outputs": [],
   "source": [
    "# Fill NA values with the mean of that column\n",
    "data[6].fillna(data[6].mean(), inplace=True)"
   ]
  },
  {
   "cell_type": "code",
   "execution_count": 6,
   "metadata": {},
   "outputs": [
    {
     "data": {
      "text/html": [
       "<div>\n",
       "<style>\n",
       "    .dataframe thead tr:only-child th {\n",
       "        text-align: right;\n",
       "    }\n",
       "\n",
       "    .dataframe thead th {\n",
       "        text-align: left;\n",
       "    }\n",
       "\n",
       "    .dataframe tbody tr th {\n",
       "        vertical-align: top;\n",
       "    }\n",
       "</style>\n",
       "<table border=\"1\" class=\"dataframe\">\n",
       "  <thead>\n",
       "    <tr style=\"text-align: right;\">\n",
       "      <th></th>\n",
       "      <th>0</th>\n",
       "      <th>1</th>\n",
       "      <th>2</th>\n",
       "      <th>3</th>\n",
       "      <th>4</th>\n",
       "      <th>5</th>\n",
       "      <th>6</th>\n",
       "      <th>7</th>\n",
       "      <th>8</th>\n",
       "      <th>9</th>\n",
       "      <th>10</th>\n",
       "    </tr>\n",
       "  </thead>\n",
       "  <tbody>\n",
       "    <tr>\n",
       "      <th>0</th>\n",
       "      <td>1000025</td>\n",
       "      <td>5</td>\n",
       "      <td>1</td>\n",
       "      <td>1</td>\n",
       "      <td>1</td>\n",
       "      <td>2</td>\n",
       "      <td>1.0</td>\n",
       "      <td>3</td>\n",
       "      <td>1</td>\n",
       "      <td>1</td>\n",
       "      <td>0</td>\n",
       "    </tr>\n",
       "    <tr>\n",
       "      <th>1</th>\n",
       "      <td>1002945</td>\n",
       "      <td>5</td>\n",
       "      <td>4</td>\n",
       "      <td>4</td>\n",
       "      <td>5</td>\n",
       "      <td>7</td>\n",
       "      <td>10.0</td>\n",
       "      <td>3</td>\n",
       "      <td>2</td>\n",
       "      <td>1</td>\n",
       "      <td>0</td>\n",
       "    </tr>\n",
       "    <tr>\n",
       "      <th>2</th>\n",
       "      <td>1015425</td>\n",
       "      <td>3</td>\n",
       "      <td>1</td>\n",
       "      <td>1</td>\n",
       "      <td>1</td>\n",
       "      <td>2</td>\n",
       "      <td>2.0</td>\n",
       "      <td>3</td>\n",
       "      <td>1</td>\n",
       "      <td>1</td>\n",
       "      <td>0</td>\n",
       "    </tr>\n",
       "    <tr>\n",
       "      <th>3</th>\n",
       "      <td>1016277</td>\n",
       "      <td>6</td>\n",
       "      <td>8</td>\n",
       "      <td>8</td>\n",
       "      <td>1</td>\n",
       "      <td>3</td>\n",
       "      <td>4.0</td>\n",
       "      <td>3</td>\n",
       "      <td>7</td>\n",
       "      <td>1</td>\n",
       "      <td>0</td>\n",
       "    </tr>\n",
       "    <tr>\n",
       "      <th>4</th>\n",
       "      <td>1017023</td>\n",
       "      <td>4</td>\n",
       "      <td>1</td>\n",
       "      <td>1</td>\n",
       "      <td>3</td>\n",
       "      <td>2</td>\n",
       "      <td>1.0</td>\n",
       "      <td>3</td>\n",
       "      <td>1</td>\n",
       "      <td>1</td>\n",
       "      <td>0</td>\n",
       "    </tr>\n",
       "    <tr>\n",
       "      <th>5</th>\n",
       "      <td>1017122</td>\n",
       "      <td>8</td>\n",
       "      <td>10</td>\n",
       "      <td>10</td>\n",
       "      <td>8</td>\n",
       "      <td>7</td>\n",
       "      <td>10.0</td>\n",
       "      <td>9</td>\n",
       "      <td>7</td>\n",
       "      <td>1</td>\n",
       "      <td>1</td>\n",
       "    </tr>\n",
       "    <tr>\n",
       "      <th>6</th>\n",
       "      <td>1018099</td>\n",
       "      <td>1</td>\n",
       "      <td>1</td>\n",
       "      <td>1</td>\n",
       "      <td>1</td>\n",
       "      <td>2</td>\n",
       "      <td>10.0</td>\n",
       "      <td>3</td>\n",
       "      <td>1</td>\n",
       "      <td>1</td>\n",
       "      <td>0</td>\n",
       "    </tr>\n",
       "    <tr>\n",
       "      <th>7</th>\n",
       "      <td>1018561</td>\n",
       "      <td>2</td>\n",
       "      <td>1</td>\n",
       "      <td>2</td>\n",
       "      <td>1</td>\n",
       "      <td>2</td>\n",
       "      <td>1.0</td>\n",
       "      <td>3</td>\n",
       "      <td>1</td>\n",
       "      <td>1</td>\n",
       "      <td>0</td>\n",
       "    </tr>\n",
       "    <tr>\n",
       "      <th>8</th>\n",
       "      <td>1033078</td>\n",
       "      <td>2</td>\n",
       "      <td>1</td>\n",
       "      <td>1</td>\n",
       "      <td>1</td>\n",
       "      <td>2</td>\n",
       "      <td>1.0</td>\n",
       "      <td>1</td>\n",
       "      <td>1</td>\n",
       "      <td>5</td>\n",
       "      <td>0</td>\n",
       "    </tr>\n",
       "    <tr>\n",
       "      <th>9</th>\n",
       "      <td>1033078</td>\n",
       "      <td>4</td>\n",
       "      <td>2</td>\n",
       "      <td>1</td>\n",
       "      <td>1</td>\n",
       "      <td>2</td>\n",
       "      <td>1.0</td>\n",
       "      <td>2</td>\n",
       "      <td>1</td>\n",
       "      <td>1</td>\n",
       "      <td>0</td>\n",
       "    </tr>\n",
       "  </tbody>\n",
       "</table>\n",
       "</div>"
      ],
      "text/plain": [
       "        0   1   2   3   4   5     6   7   8   9   10\n",
       "0  1000025   5   1   1   1   2   1.0   3   1   1   0\n",
       "1  1002945   5   4   4   5   7  10.0   3   2   1   0\n",
       "2  1015425   3   1   1   1   2   2.0   3   1   1   0\n",
       "3  1016277   6   8   8   1   3   4.0   3   7   1   0\n",
       "4  1017023   4   1   1   3   2   1.0   3   1   1   0\n",
       "5  1017122   8  10  10   8   7  10.0   9   7   1   1\n",
       "6  1018099   1   1   1   1   2  10.0   3   1   1   0\n",
       "7  1018561   2   1   2   1   2   1.0   3   1   1   0\n",
       "8  1033078   2   1   1   1   2   1.0   1   1   5   0\n",
       "9  1033078   4   2   1   1   2   1.0   2   1   1   0"
      ]
     },
     "execution_count": 6,
     "metadata": {},
     "output_type": "execute_result"
    }
   ],
   "source": [
    "data[10].replace([2,4],[0,1],inplace=True)\n",
    "data.head(10)"
   ]
  },
  {
   "cell_type": "code",
   "execution_count": 7,
   "metadata": {
    "collapsed": true
   },
   "outputs": [],
   "source": [
    "X = data.iloc[:,0:10]\n",
    "y = data.iloc[:,10] # column 10 contains class (0 for benign, 1 for malignant)"
   ]
  },
  {
   "cell_type": "code",
   "execution_count": 8,
   "metadata": {},
   "outputs": [],
   "source": [
    "# split train/test (small dataset so only using 10% in test)\n",
    "X_train, X_test, y_train, y_test = train_test_split(X, y, test_size=0.10, random_state=42)"
   ]
  },
  {
   "cell_type": "code",
   "execution_count": 9,
   "metadata": {},
   "outputs": [],
   "source": [
    "# Save IDs separately\n",
    "X_train_id = pd.DataFrame({'userID':X_train.iloc[:,0]})\n",
    "X_test_id = pd.DataFrame({'userID':X_test.iloc[:,0]})"
   ]
  },
  {
   "cell_type": "code",
   "execution_count": 10,
   "metadata": {},
   "outputs": [],
   "source": [
    "# convert DF into numpy array\n",
    "X_train = X_train.iloc[:,1:10].values\n",
    "X_test = X_test.iloc[:,1:10].values"
   ]
  },
  {
   "cell_type": "markdown",
   "metadata": {},
   "source": [
    "### Example of a Three Layer Neural Network\n",
    "- Two hidden layers and one output layer (input layer is not included)\n",
    "- Neurons: 4 + 4 + 1 = 9 neurons\n",
    "- Weights: [3 x 4] + [4 x 4] + [4 x 1] = 12 + 16 + 1 = 32 weights \n",
    "- Biases: 4 + 4 + 1 = 9 biases"
   ]
  },
  {
   "cell_type": "markdown",
   "metadata": {},
   "source": [
    "[![](https://www.pyimagesearch.com/wp-content/uploads/2016/08/simple_neural_network_header.jpg)](https://www.pyimagesearch.com/wp-content/uploads/2016/08/simple_neural_network_header.jpg)"
   ]
  },
  {
   "cell_type": "markdown",
   "metadata": {},
   "source": [
    "### Neural Network For Breast Cancer Data (Below)\n",
    "\n",
    "- Input Layer: 9 neurons\n",
    "- Hidden Layer 1: 12 neurons\n",
    "- Hidden Layer 2: 8 neurons\n",
    "- Output Layer: 1 neuron\n",
    "<br>\n",
    "<br>\n",
    "- Activation 1: Rectifier\n",
    "- Activation 2: Rectifier\n",
    "- Activation 3: Sigmoid"
   ]
  },
  {
   "cell_type": "code",
   "execution_count": 11,
   "metadata": {
    "collapsed": true
   },
   "outputs": [],
   "source": [
    "# create model\n",
    "model = Sequential()\n",
    "model.add(Dense(12, input_dim=9, activation='relu'))  # 9 input dimensions, rectifier activation\n",
    "model.add(Dense(8, activation='relu'))\n",
    "model.add(Dense(1, activation='sigmoid')) # sigmoid - output is binary\n",
    "# Compile model\n",
    "model.compile(loss='binary_crossentropy', optimizer='adam', metrics=['accuracy'])"
   ]
  },
  {
   "cell_type": "markdown",
   "metadata": {},
   "source": [
    "### Sigmoid and ReLU Activation"
   ]
  },
  {
   "cell_type": "markdown",
   "metadata": {},
   "source": [
    "- ReLU was found to greatly accelerate the convergence of stochastic gradient descent compared to the sigmoid/tanh functions. It is argued that this is due to its linear, non-saturating form\n",
    "    - Best used with lots of data"
   ]
  },
  {
   "cell_type": "markdown",
   "metadata": {},
   "source": [
    "[![](https://cdn-images-1.medium.com/max/1600/1*XxxiA0jJvPrHEJHD4z893g.png)](https://cdn-images-1.medium.com/max/1600/1*XxxiA0jJvPrHEJHD4z893g.png)"
   ]
  },
  {
   "cell_type": "code",
   "execution_count": 12,
   "metadata": {},
   "outputs": [
    {
     "name": "stdout",
     "output_type": "stream",
     "text": [
      "_________________________________________________________________\n",
      "Layer (type)                 Output Shape              Param #   \n",
      "=================================================================\n",
      "dense_1 (Dense)              (None, 12)                120       \n",
      "_________________________________________________________________\n",
      "dense_2 (Dense)              (None, 8)                 104       \n",
      "_________________________________________________________________\n",
      "dense_3 (Dense)              (None, 1)                 9         \n",
      "=================================================================\n",
      "Total params: 233\n",
      "Trainable params: 233\n",
      "Non-trainable params: 0\n",
      "_________________________________________________________________\n"
     ]
    }
   ],
   "source": [
    "model.summary()"
   ]
  },
  {
   "cell_type": "markdown",
   "metadata": {},
   "source": [
    "#### Notes\n",
    "- (9 input layers + 1 connection to bias) * 12 output dimensions = 120 parameters\n",
    "- (12 dimensions + 1 connection to bias) * 8 output dimensions = 104 parameters\n",
    "- (8 output dimensions + 1 connection to bias) * 1 output dimension = 9 parameters"
   ]
  },
  {
   "cell_type": "code",
   "execution_count": 13,
   "metadata": {},
   "outputs": [
    {
     "data": {
      "text/plain": [
       "array([ 0.,  0.,  0.,  0.,  0.,  0.,  0.,  0.,  0.,  0.,  0.,  0.], dtype=float32)"
      ]
     },
     "execution_count": 13,
     "metadata": {},
     "output_type": "execute_result"
    }
   ],
   "source": [
    "# Print weights for first layer\n",
    "\n",
    "model.layers[0].get_weights()[1]"
   ]
  },
  {
   "cell_type": "code",
   "execution_count": 14,
   "metadata": {},
   "outputs": [
    {
     "data": {
      "image/png": "[encoded data removed]",
      "text/plain": [
       "<PIL.PngImagePlugin.PngImageFile image mode=RGBA size=401x395 at 0x113B9C1D0>"
      ]
     },
     "execution_count": 14,
     "metadata": {},
     "output_type": "execute_result"
    }
   ],
   "source": [
    "from keras.utils import plot_model\n",
    "plot_model(model, show_shapes = True, show_layer_names = True)\n",
    "PIL.Image.open('model.png') "
   ]
  },
  {
   "cell_type": "code",
   "execution_count": 15,
   "metadata": {},
   "outputs": [
    {
     "name": "stdout",
     "output_type": "stream",
     "text": [
      "Train on 421 samples, validate on 208 samples\n",
      "Epoch 1/100\n",
      "421/421 [==============================] - 0s 863us/step - loss: 1.0785 - acc: 0.3515 - val_loss: 0.8410 - val_acc: 0.3413\n",
      "Epoch 2/100\n",
      "421/421 [==============================] - 0s 341us/step - loss: 0.6419 - acc: 0.5083 - val_loss: 0.5440 - val_acc: 0.6875\n",
      "Epoch 3/100\n",
      "421/421 [==============================] - 0s 323us/step - loss: 0.4671 - acc: 0.8124 - val_loss: 0.4824 - val_acc: 0.7981\n",
      "Epoch 4/100\n",
      "421/421 [==============================] - 0s 666us/step - loss: 0.4059 - acc: 0.8480 - val_loss: 0.4397 - val_acc: 0.8125\n",
      "Epoch 5/100\n",
      "421/421 [==============================] - 0s 743us/step - loss: 0.3675 - acc: 0.8741 - val_loss: 0.3908 - val_acc: 0.8365\n",
      "Epoch 6/100\n",
      "421/421 [==============================] - 0s 411us/step - loss: 0.3359 - acc: 0.8812 - val_loss: 0.3593 - val_acc: 0.8654\n",
      "Epoch 7/100\n",
      "421/421 [==============================] - 0s 368us/step - loss: 0.3066 - acc: 0.9026 - val_loss: 0.3285 - val_acc: 0.8702\n",
      "Epoch 8/100\n",
      "421/421 [==============================] - 0s 390us/step - loss: 0.2798 - acc: 0.9121 - val_loss: 0.3153 - val_acc: 0.8798\n",
      "Epoch 9/100\n",
      "421/421 [==============================] - 0s 352us/step - loss: 0.2617 - acc: 0.9287 - val_loss: 0.2924 - val_acc: 0.8894\n",
      "Epoch 10/100\n",
      "421/421 [==============================] - 0s 339us/step - loss: 0.2415 - acc: 0.9359 - val_loss: 0.2679 - val_acc: 0.9087\n",
      "Epoch 11/100\n",
      "421/421 [==============================] - 0s 331us/step - loss: 0.2318 - acc: 0.9311 - val_loss: 0.2569 - val_acc: 0.9135\n",
      "Epoch 12/100\n",
      "421/421 [==============================] - 0s 340us/step - loss: 0.2247 - acc: 0.9311 - val_loss: 0.2444 - val_acc: 0.9135\n",
      "Epoch 13/100\n",
      "421/421 [==============================] - 0s 372us/step - loss: 0.2054 - acc: 0.9430 - val_loss: 0.2342 - val_acc: 0.9183\n",
      "Epoch 14/100\n",
      "421/421 [==============================] - 0s 323us/step - loss: 0.1940 - acc: 0.9477 - val_loss: 0.2315 - val_acc: 0.9231\n",
      "Epoch 15/100\n",
      "421/421 [==============================] - 0s 255us/step - loss: 0.1890 - acc: 0.9525 - val_loss: 0.2403 - val_acc: 0.9135\n",
      "Epoch 16/100\n",
      "421/421 [==============================] - 0s 277us/step - loss: 0.1835 - acc: 0.9454 - val_loss: 0.2098 - val_acc: 0.9183\n",
      "Epoch 17/100\n",
      "421/421 [==============================] - 0s 338us/step - loss: 0.1707 - acc: 0.9525 - val_loss: 0.2150 - val_acc: 0.9231\n",
      "Epoch 18/100\n",
      "421/421 [==============================] - 0s 377us/step - loss: 0.1662 - acc: 0.9525 - val_loss: 0.2106 - val_acc: 0.9231\n",
      "Epoch 19/100\n",
      "421/421 [==============================] - 0s 302us/step - loss: 0.1595 - acc: 0.9549 - val_loss: 0.2142 - val_acc: 0.9279\n",
      "Epoch 20/100\n",
      "421/421 [==============================] - 0s 284us/step - loss: 0.1542 - acc: 0.9596 - val_loss: 0.2046 - val_acc: 0.9279\n",
      "Epoch 21/100\n",
      "421/421 [==============================] - 0s 275us/step - loss: 0.1451 - acc: 0.9596 - val_loss: 0.1926 - val_acc: 0.9231\n",
      "Epoch 22/100\n",
      "421/421 [==============================] - 0s 323us/step - loss: 0.1427 - acc: 0.9596 - val_loss: 0.2090 - val_acc: 0.9327\n",
      "Epoch 23/100\n",
      "421/421 [==============================] - 0s 275us/step - loss: 0.1363 - acc: 0.9644 - val_loss: 0.1845 - val_acc: 0.9231\n",
      "Epoch 24/100\n",
      "421/421 [==============================] - 0s 336us/step - loss: 0.1322 - acc: 0.9644 - val_loss: 0.1857 - val_acc: 0.9327\n",
      "Epoch 25/100\n",
      "421/421 [==============================] - 0s 300us/step - loss: 0.1260 - acc: 0.9644 - val_loss: 0.1754 - val_acc: 0.9375\n",
      "Epoch 26/100\n",
      "421/421 [==============================] - 0s 313us/step - loss: 0.1232 - acc: 0.9667 - val_loss: 0.1822 - val_acc: 0.9279\n",
      "Epoch 27/100\n",
      "421/421 [==============================] - 0s 275us/step - loss: 0.1202 - acc: 0.9691 - val_loss: 0.1788 - val_acc: 0.9327\n",
      "Epoch 28/100\n",
      "421/421 [==============================] - 0s 266us/step - loss: 0.1170 - acc: 0.9667 - val_loss: 0.1791 - val_acc: 0.9327\n",
      "Epoch 29/100\n",
      "421/421 [==============================] - 0s 288us/step - loss: 0.1158 - acc: 0.9667 - val_loss: 0.1813 - val_acc: 0.9327\n",
      "Epoch 30/100\n",
      "421/421 [==============================] - 0s 296us/step - loss: 0.1122 - acc: 0.9715 - val_loss: 0.1755 - val_acc: 0.9375\n",
      "Epoch 31/100\n",
      "421/421 [==============================] - 0s 319us/step - loss: 0.1156 - acc: 0.9667 - val_loss: 0.1757 - val_acc: 0.9327\n",
      "Epoch 32/100\n",
      "421/421 [==============================] - 0s 328us/step - loss: 0.1084 - acc: 0.9691 - val_loss: 0.1695 - val_acc: 0.9375\n",
      "Epoch 33/100\n",
      "421/421 [==============================] - 0s 293us/step - loss: 0.1064 - acc: 0.9691 - val_loss: 0.1711 - val_acc: 0.9375\n",
      "Epoch 34/100\n",
      "421/421 [==============================] - 0s 271us/step - loss: 0.1067 - acc: 0.9715 - val_loss: 0.1665 - val_acc: 0.9423\n",
      "Epoch 35/100\n",
      "421/421 [==============================] - 0s 285us/step - loss: 0.1018 - acc: 0.9715 - val_loss: 0.1687 - val_acc: 0.9423\n",
      "Epoch 36/100\n",
      "421/421 [==============================] - 0s 327us/step - loss: 0.0998 - acc: 0.9691 - val_loss: 0.1701 - val_acc: 0.9471\n",
      "Epoch 37/100\n",
      "421/421 [==============================] - 0s 289us/step - loss: 0.0976 - acc: 0.9715 - val_loss: 0.1722 - val_acc: 0.9423\n",
      "Epoch 38/100\n",
      "421/421 [==============================] - 0s 296us/step - loss: 0.0974 - acc: 0.9691 - val_loss: 0.1672 - val_acc: 0.9423\n",
      "Epoch 39/100\n",
      "421/421 [==============================] - 0s 313us/step - loss: 0.0959 - acc: 0.9691 - val_loss: 0.1690 - val_acc: 0.9471\n",
      "Epoch 40/100\n",
      "421/421 [==============================] - 0s 292us/step - loss: 0.0948 - acc: 0.9762 - val_loss: 0.1760 - val_acc: 0.9375\n",
      "Epoch 41/100\n",
      "421/421 [==============================] - 0s 279us/step - loss: 0.0931 - acc: 0.9739 - val_loss: 0.1670 - val_acc: 0.9423\n",
      "Epoch 42/100\n",
      "421/421 [==============================] - 0s 276us/step - loss: 0.0915 - acc: 0.9715 - val_loss: 0.1732 - val_acc: 0.9423\n",
      "Epoch 43/100\n",
      "421/421 [==============================] - 0s 316us/step - loss: 0.0894 - acc: 0.9715 - val_loss: 0.1715 - val_acc: 0.9423\n",
      "Epoch 44/100\n",
      "421/421 [==============================] - 0s 307us/step - loss: 0.0879 - acc: 0.9691 - val_loss: 0.1739 - val_acc: 0.9423\n",
      "Epoch 45/100\n",
      "421/421 [==============================] - 0s 268us/step - loss: 0.0868 - acc: 0.9715 - val_loss: 0.1679 - val_acc: 0.9471\n",
      "Epoch 46/100\n",
      "421/421 [==============================] - 0s 266us/step - loss: 0.0870 - acc: 0.9762 - val_loss: 0.1722 - val_acc: 0.9471\n",
      "Epoch 47/100\n",
      "421/421 [==============================] - 0s 263us/step - loss: 0.0847 - acc: 0.9762 - val_loss: 0.1680 - val_acc: 0.9471\n",
      "Epoch 48/100\n",
      "421/421 [==============================] - 0s 266us/step - loss: 0.0835 - acc: 0.9739 - val_loss: 0.1785 - val_acc: 0.9423\n",
      "Epoch 49/100\n",
      "421/421 [==============================] - 0s 264us/step - loss: 0.0809 - acc: 0.9739 - val_loss: 0.1663 - val_acc: 0.9423\n",
      "Epoch 50/100\n",
      "421/421 [==============================] - 0s 254us/step - loss: 0.0841 - acc: 0.9739 - val_loss: 0.1645 - val_acc: 0.9423\n",
      "Epoch 51/100\n",
      "421/421 [==============================] - 0s 241us/step - loss: 0.0779 - acc: 0.9786 - val_loss: 0.1805 - val_acc: 0.9423\n",
      "Epoch 52/100\n",
      "421/421 [==============================] - 0s 259us/step - loss: 0.0798 - acc: 0.9715 - val_loss: 0.1665 - val_acc: 0.9471\n",
      "Epoch 53/100\n",
      "421/421 [==============================] - 0s 239us/step - loss: 0.0775 - acc: 0.9786 - val_loss: 0.1748 - val_acc: 0.9423\n",
      "Epoch 54/100\n",
      "421/421 [==============================] - 0s 277us/step - loss: 0.0768 - acc: 0.9786 - val_loss: 0.1700 - val_acc: 0.9471\n",
      "Epoch 55/100\n",
      "421/421 [==============================] - 0s 275us/step - loss: 0.0758 - acc: 0.9786 - val_loss: 0.1737 - val_acc: 0.9471\n",
      "Epoch 56/100\n",
      "421/421 [==============================] - 0s 287us/step - loss: 0.0744 - acc: 0.9762 - val_loss: 0.1755 - val_acc: 0.9423\n",
      "Epoch 57/100\n",
      "421/421 [==============================] - 0s 266us/step - loss: 0.0745 - acc: 0.9786 - val_loss: 0.1741 - val_acc: 0.9471\n",
      "Epoch 58/100\n",
      "421/421 [==============================] - 0s 266us/step - loss: 0.0731 - acc: 0.9786 - val_loss: 0.1685 - val_acc: 0.9471\n",
      "Epoch 59/100\n",
      "421/421 [==============================] - 0s 260us/step - loss: 0.0707 - acc: 0.9786 - val_loss: 0.1836 - val_acc: 0.9423\n",
      "Epoch 60/100\n",
      "421/421 [==============================] - 0s 265us/step - loss: 0.0725 - acc: 0.9739 - val_loss: 0.1704 - val_acc: 0.9471\n"
     ]
    },
    {
     "name": "stdout",
     "output_type": "stream",
     "text": [
      "Epoch 61/100\n",
      "421/421 [==============================] - 0s 257us/step - loss: 0.0708 - acc: 0.9786 - val_loss: 0.1776 - val_acc: 0.9423\n",
      "Epoch 62/100\n",
      "421/421 [==============================] - 0s 252us/step - loss: 0.0697 - acc: 0.9786 - val_loss: 0.1666 - val_acc: 0.9423\n",
      "Epoch 63/100\n",
      "421/421 [==============================] - 0s 268us/step - loss: 0.0679 - acc: 0.9786 - val_loss: 0.1702 - val_acc: 0.9471\n",
      "Epoch 64/100\n",
      "421/421 [==============================] - 0s 254us/step - loss: 0.0675 - acc: 0.9786 - val_loss: 0.1734 - val_acc: 0.9423\n",
      "Epoch 65/100\n",
      "421/421 [==============================] - 0s 271us/step - loss: 0.0707 - acc: 0.9810 - val_loss: 0.1935 - val_acc: 0.9423\n",
      "Epoch 66/100\n",
      "421/421 [==============================] - 0s 295us/step - loss: 0.0680 - acc: 0.9762 - val_loss: 0.1725 - val_acc: 0.9423\n",
      "Epoch 67/100\n",
      "421/421 [==============================] - 0s 315us/step - loss: 0.0659 - acc: 0.9786 - val_loss: 0.1675 - val_acc: 0.9471\n",
      "Epoch 68/100\n",
      "421/421 [==============================] - 0s 221us/step - loss: 0.0647 - acc: 0.9786 - val_loss: 0.1729 - val_acc: 0.9423\n",
      "Epoch 69/100\n",
      "421/421 [==============================] - 0s 202us/step - loss: 0.0639 - acc: 0.9786 - val_loss: 0.1781 - val_acc: 0.9423\n",
      "Epoch 70/100\n",
      "421/421 [==============================] - 0s 350us/step - loss: 0.0647 - acc: 0.9810 - val_loss: 0.1783 - val_acc: 0.9423\n",
      "Epoch 71/100\n",
      "421/421 [==============================] - 0s 272us/step - loss: 0.0648 - acc: 0.9762 - val_loss: 0.1723 - val_acc: 0.9423\n",
      "Epoch 72/100\n",
      "421/421 [==============================] - 0s 279us/step - loss: 0.0619 - acc: 0.9810 - val_loss: 0.1731 - val_acc: 0.9423\n",
      "Epoch 73/100\n",
      "421/421 [==============================] - 0s 283us/step - loss: 0.0605 - acc: 0.9810 - val_loss: 0.1747 - val_acc: 0.9375\n",
      "Epoch 74/100\n",
      "421/421 [==============================] - 0s 333us/step - loss: 0.0611 - acc: 0.9786 - val_loss: 0.1946 - val_acc: 0.9519\n",
      "Epoch 75/100\n",
      "421/421 [==============================] - 0s 332us/step - loss: 0.0621 - acc: 0.9786 - val_loss: 0.1734 - val_acc: 0.9471\n",
      "Epoch 76/100\n",
      "421/421 [==============================] - 0s 348us/step - loss: 0.0585 - acc: 0.9810 - val_loss: 0.1827 - val_acc: 0.9423\n",
      "Epoch 77/100\n",
      "421/421 [==============================] - 0s 365us/step - loss: 0.0636 - acc: 0.9786 - val_loss: 0.1789 - val_acc: 0.9423\n",
      "Epoch 78/100\n",
      "421/421 [==============================] - 0s 420us/step - loss: 0.0599 - acc: 0.9810 - val_loss: 0.1769 - val_acc: 0.9471\n",
      "Epoch 79/100\n",
      "421/421 [==============================] - 0s 386us/step - loss: 0.0592 - acc: 0.9810 - val_loss: 0.1994 - val_acc: 0.9519\n",
      "Epoch 80/100\n",
      "421/421 [==============================] - 0s 334us/step - loss: 0.0598 - acc: 0.9810 - val_loss: 0.1813 - val_acc: 0.9471\n",
      "Epoch 81/100\n",
      "421/421 [==============================] - 0s 301us/step - loss: 0.0581 - acc: 0.9786 - val_loss: 0.1809 - val_acc: 0.9423\n",
      "Epoch 82/100\n",
      "421/421 [==============================] - 0s 273us/step - loss: 0.0572 - acc: 0.9834 - val_loss: 0.1695 - val_acc: 0.9471\n",
      "Epoch 83/100\n",
      "421/421 [==============================] - 0s 328us/step - loss: 0.0561 - acc: 0.9810 - val_loss: 0.1784 - val_acc: 0.9423\n",
      "Epoch 84/100\n",
      "421/421 [==============================] - 0s 298us/step - loss: 0.0549 - acc: 0.9834 - val_loss: 0.1702 - val_acc: 0.9519\n",
      "Epoch 85/100\n",
      "421/421 [==============================] - 0s 307us/step - loss: 0.0552 - acc: 0.9810 - val_loss: 0.1784 - val_acc: 0.9423\n",
      "Epoch 86/100\n",
      "421/421 [==============================] - 0s 302us/step - loss: 0.0585 - acc: 0.9786 - val_loss: 0.1820 - val_acc: 0.9471\n",
      "Epoch 87/100\n",
      "421/421 [==============================] - 0s 279us/step - loss: 0.0551 - acc: 0.9834 - val_loss: 0.1781 - val_acc: 0.9471\n",
      "Epoch 88/100\n",
      "421/421 [==============================] - 0s 290us/step - loss: 0.0547 - acc: 0.9810 - val_loss: 0.1933 - val_acc: 0.9471\n",
      "Epoch 89/100\n",
      "421/421 [==============================] - 0s 303us/step - loss: 0.0542 - acc: 0.9857 - val_loss: 0.1776 - val_acc: 0.9471\n",
      "Epoch 90/100\n",
      "421/421 [==============================] - 0s 289us/step - loss: 0.0543 - acc: 0.9881 - val_loss: 0.1778 - val_acc: 0.9423\n",
      "Epoch 91/100\n",
      "421/421 [==============================] - 0s 278us/step - loss: 0.0520 - acc: 0.9834 - val_loss: 0.1931 - val_acc: 0.9471\n",
      "Epoch 92/100\n",
      "421/421 [==============================] - 0s 285us/step - loss: 0.0512 - acc: 0.9834 - val_loss: 0.1786 - val_acc: 0.9423\n",
      "Epoch 93/100\n",
      "421/421 [==============================] - 0s 276us/step - loss: 0.0499 - acc: 0.9881 - val_loss: 0.2080 - val_acc: 0.9471\n",
      "Epoch 94/100\n",
      "421/421 [==============================] - 0s 356us/step - loss: 0.0556 - acc: 0.9834 - val_loss: 0.1917 - val_acc: 0.9423\n",
      "Epoch 95/100\n",
      "421/421 [==============================] - 0s 415us/step - loss: 0.0516 - acc: 0.9810 - val_loss: 0.1760 - val_acc: 0.9471\n",
      "Epoch 96/100\n",
      "421/421 [==============================] - 0s 681us/step - loss: 0.0503 - acc: 0.9857 - val_loss: 0.1846 - val_acc: 0.9423\n",
      "Epoch 97/100\n",
      "421/421 [==============================] - 0s 616us/step - loss: 0.0507 - acc: 0.9834 - val_loss: 0.1837 - val_acc: 0.9519\n",
      "Epoch 98/100\n",
      "421/421 [==============================] - 0s 372us/step - loss: 0.0506 - acc: 0.9834 - val_loss: 0.1849 - val_acc: 0.9471\n",
      "Epoch 99/100\n",
      "421/421 [==============================] - 0s 580us/step - loss: 0.0506 - acc: 0.9881 - val_loss: 0.1922 - val_acc: 0.9471\n",
      "Epoch 100/100\n",
      "421/421 [==============================] - 0s 455us/step - loss: 0.0493 - acc: 0.9881 - val_loss: 0.1950 - val_acc: 0.9471\n"
     ]
    }
   ],
   "source": [
    "# Fit the model\n",
    "history = model.fit(X_train, y_train, validation_split=0.33, epochs=100, batch_size=10, verbose=1)"
   ]
  },
  {
   "cell_type": "code",
   "execution_count": 16,
   "metadata": {},
   "outputs": [
    {
     "name": "stdout",
     "output_type": "stream",
     "text": [
      "629/629 [==============================] - 0s 134us/step\n",
      "\n",
      "acc: 97.14%\n"
     ]
    }
   ],
   "source": [
    "# evaluate the model\n",
    "scores = model.evaluate(X_train, y_train)\n",
    "print(\"\\n%s: %.2f%%\" % (model.metrics_names[1], scores[1]*100))"
   ]
  },
  {
   "cell_type": "code",
   "execution_count": 17,
   "metadata": {
    "collapsed": true
   },
   "outputs": [],
   "source": [
    "# save model weights\n",
    "model.save_weights(model_path + 'breast_cancer_sys.h5')"
   ]
  },
  {
   "cell_type": "code",
   "execution_count": 18,
   "metadata": {
    "collapsed": true
   },
   "outputs": [],
   "source": [
    "model.load_weights(model_path + 'breast_cancer_sys.h5')"
   ]
  },
  {
   "cell_type": "markdown",
   "metadata": {},
   "source": [
    "### Print Accuracy and Loss"
   ]
  },
  {
   "cell_type": "code",
   "execution_count": 19,
   "metadata": {},
   "outputs": [
    {
     "name": "stdout",
     "output_type": "stream",
     "text": [
      "['acc', 'loss', 'val_acc', 'val_loss']\n"
     ]
    },
    {
     "data": {
      "image/png": "[encoded data removed]",
      "text/plain": [
       "<matplotlib.figure.Figure at 0x1140e1c10>"
      ]
     },
     "metadata": {},
     "output_type": "display_data"
    },
    {
     "data": {
      "image/png": "[encoded data removed]",
      "text/plain": [
       "<matplotlib.figure.Figure at 0x114209fd0>"
      ]
     },
     "metadata": {},
     "output_type": "display_data"
    }
   ],
   "source": [
    "# list all data in history\n",
    "print(history.history.keys())\n",
    "\n",
    "# summarize history for accuracy\n",
    "plt.plot(history.history['acc'])\n",
    "plt.plot(history.history['val_acc'])\n",
    "plt.title('model accuracy')\n",
    "plt.ylabel('accuracy')\n",
    "plt.xlabel('epoch')\n",
    "plt.legend(['train', 'test'], loc='upper left')\n",
    "plt.show()\n",
    "\n",
    "# summarize history for loss\n",
    "plt.plot(history.history['loss'])\n",
    "plt.plot(history.history['val_loss'])\n",
    "plt.title('model loss')\n",
    "plt.ylabel('loss')\n",
    "plt.xlabel('epoch')\n",
    "plt.legend(['train', 'test'], loc='upper left')\n",
    "plt.show()"
   ]
  },
  {
   "cell_type": "markdown",
   "metadata": {},
   "source": [
    "### Make Predictions on Test Set"
   ]
  },
  {
   "cell_type": "code",
   "execution_count": 20,
   "metadata": {},
   "outputs": [
    {
     "name": "stdout",
     "output_type": "stream",
     "text": [
      "[0.0, 0.0, 0.0, 1.0, 0.0]\n"
     ]
    }
   ],
   "source": [
    "# calculate predictions\n",
    "predictions = model.predict(X_test)\n",
    "# round predictions\n",
    "rounded = [round(x[0]) for x in predictions]\n",
    "print(rounded[0:5])"
   ]
  },
  {
   "cell_type": "code",
   "execution_count": 21,
   "metadata": {
    "collapsed": true
   },
   "outputs": [],
   "source": [
    "preds = pd.DataFrame(rounded, columns = ['pred'])"
   ]
  },
  {
   "cell_type": "code",
   "execution_count": 22,
   "metadata": {},
   "outputs": [],
   "source": [
    "# reset index for concatenation\n",
    "X_test_id.reset_index(drop=True, inplace=True)"
   ]
  },
  {
   "cell_type": "code",
   "execution_count": 23,
   "metadata": {},
   "outputs": [
    {
     "data": {
      "text/html": [
       "<div>\n",
       "<style>\n",
       "    .dataframe thead tr:only-child th {\n",
       "        text-align: right;\n",
       "    }\n",
       "\n",
       "    .dataframe thead th {\n",
       "        text-align: left;\n",
       "    }\n",
       "\n",
       "    .dataframe tbody tr th {\n",
       "        vertical-align: top;\n",
       "    }\n",
       "</style>\n",
       "<table border=\"1\" class=\"dataframe\">\n",
       "  <thead>\n",
       "    <tr style=\"text-align: right;\">\n",
       "      <th></th>\n",
       "      <th>userID</th>\n",
       "      <th>pred</th>\n",
       "    </tr>\n",
       "  </thead>\n",
       "  <tbody>\n",
       "    <tr>\n",
       "      <th>0</th>\n",
       "      <td>1193683</td>\n",
       "      <td>0.0</td>\n",
       "    </tr>\n",
       "    <tr>\n",
       "      <th>1</th>\n",
       "      <td>1217952</td>\n",
       "      <td>0.0</td>\n",
       "    </tr>\n",
       "    <tr>\n",
       "      <th>2</th>\n",
       "      <td>1176187</td>\n",
       "      <td>0.0</td>\n",
       "    </tr>\n",
       "    <tr>\n",
       "      <th>3</th>\n",
       "      <td>1192325</td>\n",
       "      <td>1.0</td>\n",
       "    </tr>\n",
       "    <tr>\n",
       "      <th>4</th>\n",
       "      <td>733639</td>\n",
       "      <td>0.0</td>\n",
       "    </tr>\n",
       "  </tbody>\n",
       "</table>\n",
       "</div>"
      ],
      "text/plain": [
       "    userID  pred\n",
       "0  1193683   0.0\n",
       "1  1217952   0.0\n",
       "2  1176187   0.0\n",
       "3  1192325   1.0\n",
       "4   733639   0.0"
      ]
     },
     "execution_count": 23,
     "metadata": {},
     "output_type": "execute_result"
    }
   ],
   "source": [
    "df_pred = pd.concat([X_test_id, preds], axis=1)\n",
    "df_pred.head()"
   ]
  },
  {
   "cell_type": "code",
   "execution_count": 24,
   "metadata": {},
   "outputs": [
    {
     "data": {
      "image/png": "[encoded data removed]",
      "text/plain": [
       "<matplotlib.figure.Figure at 0x113e44990>"
      ]
     },
     "metadata": {},
     "output_type": "display_data"
    },
    {
     "name": "stdout",
     "output_type": "stream",
     "text": [
      "             precision    recall  f1-score   support\n",
      "\n",
      "          0       1.00      0.93      0.97        46\n",
      "          1       0.89      1.00      0.94        24\n",
      "\n",
      "avg / total       0.96      0.96      0.96        70\n",
      "\n"
     ]
    }
   ],
   "source": [
    "cm = confusion_matrix(y_test, rounded)\n",
    "\n",
    "fig, ax = plt.subplots(figsize=(5, 5))\n",
    "ax.matshow(cm, cmap=plt.cm.Reds, alpha=0.3)\n",
    "for i in range(cm.shape[0]):\n",
    "     for j in range(cm.shape[1]):\n",
    "         ax.text(x=j, y=i,\n",
    "                s=cm[i, j], \n",
    "                va='center', ha='center')\n",
    "plt.xlabel('Predicted Values', )\n",
    "plt.ylabel('Actual Values')\n",
    "plt.show()\n",
    "print(classification_report(y_test, rounded))"
   ]
  }
 ],
 "metadata": {
  "kernelspec": {
   "display_name": "Python 2",
   "language": "python",
   "name": "python2"
  },
  "language_info": {
   "codemirror_mode": {
    "name": "ipython",
    "version": 2
   },
   "file_extension": ".py",
   "mimetype": "text/x-python",
   "name": "python",
   "nbconvert_exporter": "python",
   "pygments_lexer": "ipython2",
   "version": "2.7.13"
  }
 },
 "nbformat": 4,
 "nbformat_minor": 2
}
